{
  "nbformat": 4,
  "nbformat_minor": 0,
  "metadata": {
    "colab": {
      "name": "Concepts Management.ipynb",
      "provenance": [],
      "authorship_tag": "ABX9TyOGE8X38OZsoY0Mz0mLYYtf",
      "include_colab_link": true
    },
    "kernelspec": {
      "name": "python3",
      "display_name": "Python 3"
    },
    "language_info": {
      "name": "python"
    }
  },
  "cells": [
    {
      "cell_type": "markdown",
      "metadata": {
        "id": "view-in-github",
        "colab_type": "text"
      },
      "source": [
        "<a href=\"https://colab.research.google.com/github/FloraAmato/Lezioni/blob/main/Concepts_Management.ipynb\" target=\"_parent\"><img src=\"https://colab.research.google.com/assets/colab-badge.svg\" alt=\"Open In Colab\"/></a>"
      ]
    },
    {
      "cell_type": "code",
      "metadata": {
        "colab": {
          "base_uri": "https://localhost:8080/"
        },
        "id": "dZ2JCFr9jDrH",
        "outputId": "93ae9f3e-c85e-4103-c409-269c2687d423"
      },
      "source": [
        "import nltk\n",
        "nltk.download('wordnet')\n",
        "# \n"
      ],
      "execution_count": 6,
      "outputs": [
        {
          "output_type": "stream",
          "text": [
            "[nltk_data] Downloading package wordnet to /root/nltk_data...\n",
            "[nltk_data]   Package wordnet is already up-to-date!\n"
          ],
          "name": "stdout"
        },
        {
          "output_type": "execute_result",
          "data": {
            "text/plain": [
              "True"
            ]
          },
          "metadata": {
            "tags": []
          },
          "execution_count": 6
        }
      ]
    },
    {
      "cell_type": "code",
      "metadata": {
        "id": "PpZqcw-Vl23B"
      },
      "source": [
        "from nltk.corpus import wordnet as wn"
      ],
      "execution_count": 7,
      "outputs": []
    },
    {
      "cell_type": "code",
      "metadata": {
        "colab": {
          "base_uri": "https://localhost:8080/"
        },
        "id": "Y9Seqf9ylluQ",
        "outputId": "4deb05e6-d7ca-4632-97aa-fa81043fa718"
      },
      "source": [
        "wn.synsets('home') #pos='n'"
      ],
      "execution_count": 12,
      "outputs": [
        {
          "output_type": "execute_result",
          "data": {
            "text/plain": [
              "[Synset('home.n.01'),\n",
              " Synset('dwelling.n.01'),\n",
              " Synset('home.n.03'),\n",
              " Synset('home_plate.n.01'),\n",
              " Synset('base.n.14'),\n",
              " Synset('home.n.06'),\n",
              " Synset('home.n.07'),\n",
              " Synset('family.n.01'),\n",
              " Synset('home.n.09'),\n",
              " Synset('home.v.01'),\n",
              " Synset('home.v.02'),\n",
              " Synset('home.a.01'),\n",
              " Synset('home.a.02'),\n",
              " Synset('home.s.03'),\n",
              " Synset('home.r.01'),\n",
              " Synset('home.r.02'),\n",
              " Synset('home.r.03')]"
            ]
          },
          "metadata": {
            "tags": []
          },
          "execution_count": 12
        }
      ]
    },
    {
      "cell_type": "code",
      "metadata": {
        "colab": {
          "base_uri": "https://localhost:8080/"
        },
        "id": "r5BMWj-FmeU_",
        "outputId": "9b8d9b81-8f0c-42e5-8439-28027dcdf6b1"
      },
      "source": [
        "wn.synsets('good')"
      ],
      "execution_count": 13,
      "outputs": [
        {
          "output_type": "execute_result",
          "data": {
            "text/plain": [
              "[Synset('good.n.01'),\n",
              " Synset('good.n.02'),\n",
              " Synset('good.n.03'),\n",
              " Synset('commodity.n.01'),\n",
              " Synset('good.a.01'),\n",
              " Synset('full.s.06'),\n",
              " Synset('good.a.03'),\n",
              " Synset('estimable.s.02'),\n",
              " Synset('beneficial.s.01'),\n",
              " Synset('good.s.06'),\n",
              " Synset('good.s.07'),\n",
              " Synset('adept.s.01'),\n",
              " Synset('good.s.09'),\n",
              " Synset('dear.s.02'),\n",
              " Synset('dependable.s.04'),\n",
              " Synset('good.s.12'),\n",
              " Synset('good.s.13'),\n",
              " Synset('effective.s.04'),\n",
              " Synset('good.s.15'),\n",
              " Synset('good.s.16'),\n",
              " Synset('good.s.17'),\n",
              " Synset('good.s.18'),\n",
              " Synset('good.s.19'),\n",
              " Synset('good.s.20'),\n",
              " Synset('good.s.21'),\n",
              " Synset('well.r.01'),\n",
              " Synset('thoroughly.r.02')]"
            ]
          },
          "metadata": {
            "tags": []
          },
          "execution_count": 13
        }
      ]
    },
    {
      "cell_type": "markdown",
      "metadata": {
        "id": "VyaVkEq2m6X5"
      },
      "source": [
        "synset restituisce i synset con 3 campi\n",
        "\n",
        "\n",
        "1.   Nome della catena di sinonimi concettuali\n",
        "2.   Parte del discorso POS\n",
        "3.   id\n",
        "\n",
        "\n",
        "2. parte del discorso contiene i seguenti valori\n",
        "\n",
        "\n",
        "\n",
        "*   a  ADJ\n",
        "*   s  ADJ_SAT\n",
        "*   r  ADV\n",
        "*   n  NOUM\n",
        "*   v  VERB\n",
        "\n",
        "\n",
        "\n",
        "\n"
      ]
    },
    {
      "cell_type": "code",
      "metadata": {
        "colab": {
          "base_uri": "https://localhost:8080/"
        },
        "id": "5qwcNbufm58Q",
        "outputId": "e039dc6c-f165-4f03-a878-1f0becabcc93"
      },
      "source": [
        "wn.synsets('good',pos='n')  "
      ],
      "execution_count": 14,
      "outputs": [
        {
          "output_type": "execute_result",
          "data": {
            "text/plain": [
              "[Synset('good.n.01'),\n",
              " Synset('good.n.02'),\n",
              " Synset('good.n.03'),\n",
              " Synset('commodity.n.01')]"
            ]
          },
          "metadata": {
            "tags": []
          },
          "execution_count": 14
        }
      ]
    },
    {
      "cell_type": "code",
      "metadata": {
        "colab": {
          "base_uri": "https://localhost:8080/"
        },
        "id": "WfyJSFs9pRF-",
        "outputId": "1860ec5e-0452-49d2-9901-544719cdab94"
      },
      "source": [
        "catena_quasi_sinonimi=wn.synset('good.n.01')\n",
        "print(catena_quasi_sinonimi.definition())\n",
        "print(catena_quasi_sinonimi.examples())"
      ],
      "execution_count": 17,
      "outputs": [
        {
          "output_type": "stream",
          "text": [
            "benefit\n",
            "['for your own good', \"what's the good of worrying?\"]\n"
          ],
          "name": "stdout"
        }
      ]
    },
    {
      "cell_type": "code",
      "metadata": {
        "colab": {
          "base_uri": "https://localhost:8080/"
        },
        "id": "VVE-3nWjp2IR",
        "outputId": "f66de35c-26aa-4beb-8318-5257198f2504"
      },
      "source": [
        "catena_quasi_sinonimi=wn.synset('good.n.02')\n",
        "print(catena_quasi_sinonimi.definition())\n",
        "print(catena_quasi_sinonimi.examples())"
      ],
      "execution_count": 18,
      "outputs": [
        {
          "output_type": "stream",
          "text": [
            "moral excellence or admirableness\n",
            "['there is much good to be found in people']\n"
          ],
          "name": "stdout"
        }
      ]
    },
    {
      "cell_type": "code",
      "metadata": {
        "colab": {
          "base_uri": "https://localhost:8080/"
        },
        "id": "Cx5olgVMp9z3",
        "outputId": "b68a5230-6c2f-47f4-bd82-ba424eb0591a"
      },
      "source": [
        "catena_quasi_sinonimi=wn.synset('good.n.03')\n",
        "print(catena_quasi_sinonimi.definition())\n",
        "print(catena_quasi_sinonimi.examples())"
      ],
      "execution_count": 19,
      "outputs": [
        {
          "output_type": "stream",
          "text": [
            "that which is pleasing or valuable or useful\n",
            "['weigh the good against the bad', 'among the highest goods of all are happiness and self-realization']\n"
          ],
          "name": "stdout"
        }
      ]
    },
    {
      "cell_type": "code",
      "metadata": {
        "colab": {
          "base_uri": "https://localhost:8080/"
        },
        "id": "5IhWLnO2qBFZ",
        "outputId": "3b656f57-e63a-4087-901b-af866e705233"
      },
      "source": [
        "catena_quasi_sinonimi=wn.synset('good.n.04')\n",
        "print(catena_quasi_sinonimi.definition())\n",
        "print(catena_quasi_sinonimi.examples())"
      ],
      "execution_count": 20,
      "outputs": [
        {
          "output_type": "stream",
          "text": [
            "articles of commerce\n",
            "[]\n"
          ],
          "name": "stdout"
        }
      ]
    },
    {
      "cell_type": "code",
      "metadata": {
        "colab": {
          "base_uri": "https://localhost:8080/",
          "height": 465
        },
        "id": "ZIMnKK7sqOlv",
        "outputId": "77faf63b-32bb-43c9-cc9a-7d0a07d76f74"
      },
      "source": [
        "catena_quasi_sinonimi=wn.synset('good.n.05')\n",
        "print(catena_quasi_sinonimi.definition())\n",
        "print(catena_quasi_sinonimi.examples())"
      ],
      "execution_count": 21,
      "outputs": [
        {
          "output_type": "error",
          "ename": "WordNetError",
          "evalue": "ignored",
          "traceback": [
            "\u001b[0;31m---------------------------------------------------------------------------\u001b[0m",
            "\u001b[0;31mIndexError\u001b[0m                                Traceback (most recent call last)",
            "\u001b[0;32m/usr/local/lib/python3.7/dist-packages/nltk/corpus/reader/wordnet.py\u001b[0m in \u001b[0;36msynset\u001b[0;34m(self, name)\u001b[0m\n\u001b[1;32m   1294\u001b[0m         \u001b[0;32mtry\u001b[0m\u001b[0;34m:\u001b[0m\u001b[0;34m\u001b[0m\u001b[0;34m\u001b[0m\u001b[0m\n\u001b[0;32m-> 1295\u001b[0;31m             \u001b[0moffset\u001b[0m \u001b[0;34m=\u001b[0m \u001b[0mself\u001b[0m\u001b[0;34m.\u001b[0m\u001b[0m_lemma_pos_offset_map\u001b[0m\u001b[0;34m[\u001b[0m\u001b[0mlemma\u001b[0m\u001b[0;34m]\u001b[0m\u001b[0;34m[\u001b[0m\u001b[0mpos\u001b[0m\u001b[0;34m]\u001b[0m\u001b[0;34m[\u001b[0m\u001b[0msynset_index\u001b[0m\u001b[0;34m]\u001b[0m\u001b[0;34m\u001b[0m\u001b[0;34m\u001b[0m\u001b[0m\n\u001b[0m\u001b[1;32m   1296\u001b[0m         \u001b[0;32mexcept\u001b[0m \u001b[0mKeyError\u001b[0m\u001b[0;34m:\u001b[0m\u001b[0;34m\u001b[0m\u001b[0;34m\u001b[0m\u001b[0m\n",
            "\u001b[0;31mIndexError\u001b[0m: list index out of range",
            "\nDuring handling of the above exception, another exception occurred:\n",
            "\u001b[0;31mWordNetError\u001b[0m                              Traceback (most recent call last)",
            "\u001b[0;32m<ipython-input-21-b4d3704029db>\u001b[0m in \u001b[0;36m<module>\u001b[0;34m()\u001b[0m\n\u001b[0;32m----> 1\u001b[0;31m \u001b[0mcatena_quasi_sinonimi\u001b[0m\u001b[0;34m=\u001b[0m\u001b[0mwn\u001b[0m\u001b[0;34m.\u001b[0m\u001b[0msynset\u001b[0m\u001b[0;34m(\u001b[0m\u001b[0;34m'good.n.05'\u001b[0m\u001b[0;34m)\u001b[0m\u001b[0;34m\u001b[0m\u001b[0;34m\u001b[0m\u001b[0m\n\u001b[0m\u001b[1;32m      2\u001b[0m \u001b[0mprint\u001b[0m\u001b[0;34m(\u001b[0m\u001b[0mcatena_quasi_sinonimi\u001b[0m\u001b[0;34m.\u001b[0m\u001b[0mdefinition\u001b[0m\u001b[0;34m(\u001b[0m\u001b[0;34m)\u001b[0m\u001b[0;34m)\u001b[0m\u001b[0;34m\u001b[0m\u001b[0;34m\u001b[0m\u001b[0m\n\u001b[1;32m      3\u001b[0m \u001b[0mprint\u001b[0m\u001b[0;34m(\u001b[0m\u001b[0mcatena_quasi_sinonimi\u001b[0m\u001b[0;34m.\u001b[0m\u001b[0mexamples\u001b[0m\u001b[0;34m(\u001b[0m\u001b[0;34m)\u001b[0m\u001b[0;34m)\u001b[0m\u001b[0;34m\u001b[0m\u001b[0;34m\u001b[0m\u001b[0m\n",
            "\u001b[0;32m/usr/local/lib/python3.7/dist-packages/nltk/corpus/reader/wordnet.py\u001b[0m in \u001b[0;36msynset\u001b[0;34m(self, name)\u001b[0m\n\u001b[1;32m   1304\u001b[0m             \u001b[0;32melse\u001b[0m\u001b[0;34m:\u001b[0m\u001b[0;34m\u001b[0m\u001b[0;34m\u001b[0m\u001b[0m\n\u001b[1;32m   1305\u001b[0m                 \u001b[0mtup\u001b[0m \u001b[0;34m=\u001b[0m \u001b[0mlemma\u001b[0m\u001b[0;34m,\u001b[0m \u001b[0mpos\u001b[0m\u001b[0;34m,\u001b[0m \u001b[0mn_senses\u001b[0m\u001b[0;34m,\u001b[0m \u001b[0;34m\"senses\"\u001b[0m\u001b[0;34m\u001b[0m\u001b[0;34m\u001b[0m\u001b[0m\n\u001b[0;32m-> 1306\u001b[0;31m             \u001b[0;32mraise\u001b[0m \u001b[0mWordNetError\u001b[0m\u001b[0;34m(\u001b[0m\u001b[0mmessage\u001b[0m \u001b[0;34m%\u001b[0m \u001b[0mtup\u001b[0m\u001b[0;34m)\u001b[0m\u001b[0;34m\u001b[0m\u001b[0;34m\u001b[0m\u001b[0m\n\u001b[0m\u001b[1;32m   1307\u001b[0m \u001b[0;34m\u001b[0m\u001b[0m\n\u001b[1;32m   1308\u001b[0m         \u001b[0;31m# load synset information from the appropriate file\u001b[0m\u001b[0;34m\u001b[0m\u001b[0;34m\u001b[0m\u001b[0;34m\u001b[0m\u001b[0m\n",
            "\u001b[0;31mWordNetError\u001b[0m: lemma 'good' with part of speech 'n' has only 4 senses"
          ]
        }
      ]
    },
    {
      "cell_type": "code",
      "metadata": {
        "colab": {
          "base_uri": "https://localhost:8080/"
        },
        "id": "gR2SEfNKqXVP",
        "outputId": "7f324330-5042-41bf-ede1-d569d4e0a6d9"
      },
      "source": [
        "catena_quasi_sinonimi=wn.synset('good.a.10')\n",
        "print(catena_quasi_sinonimi.definition())\n",
        "print(catena_quasi_sinonimi.examples())"
      ],
      "execution_count": 31,
      "outputs": [
        {
          "output_type": "stream",
          "text": [
            "with or in a close or intimate relationship\n",
            "['a good friend', 'my sisters and brothers are near and dear']\n"
          ],
          "name": "stdout"
        }
      ]
    },
    {
      "cell_type": "markdown",
      "metadata": {
        "id": "dBLT0aG5qwKS"
      },
      "source": [
        "Basansoci sul Lemma possiamo avere la lista dei sinonimi appartenenti ad un dato synset"
      ]
    },
    {
      "cell_type": "code",
      "metadata": {
        "colab": {
          "base_uri": "https://localhost:8080/"
        },
        "id": "e317mGfTq7sO",
        "outputId": "82a6fd4d-b161-4fd3-dcac-455c65f7014f"
      },
      "source": [
        "catena_quasi_sinonimi=wn.synset('good.n.02')\n",
        "print(catena_quasi_sinonimi.lemmas())\n",
        "print(catena_quasi_sinonimi.lemmas()[0].name())\n",
        "print(catena_quasi_sinonimi.lemmas()[0].antonyms())"
      ],
      "execution_count": 35,
      "outputs": [
        {
          "output_type": "stream",
          "text": [
            "[Lemma('good.n.02.good'), Lemma('good.n.02.goodness')]\n",
            "good\n",
            "[Lemma('evil.n.03.evil')]\n"
          ],
          "name": "stdout"
        }
      ]
    },
    {
      "cell_type": "code",
      "metadata": {
        "colab": {
          "base_uri": "https://localhost:8080/",
          "height": 234
        },
        "id": "zPWNxu_VrnIi",
        "outputId": "9c6ca81d-8417-4fcc-8a59-0cb10fe124ce"
      },
      "source": [
        "catena_quasi_sinonimi=wn.synset('good.n.02')\n",
        "print(catena_quasi_sinonimi.lemmas())\n",
        "print(catena_quasi_sinonimi.lemmas()[2].name())\n",
        "print(catena_quasi_sinonimi.lemmas()[2].antonyms())"
      ],
      "execution_count": 37,
      "outputs": [
        {
          "output_type": "stream",
          "text": [
            "[Lemma('good.n.02.good'), Lemma('good.n.02.goodness')]\n"
          ],
          "name": "stdout"
        },
        {
          "output_type": "error",
          "ename": "IndexError",
          "evalue": "ignored",
          "traceback": [
            "\u001b[0;31m---------------------------------------------------------------------------\u001b[0m",
            "\u001b[0;31mIndexError\u001b[0m                                Traceback (most recent call last)",
            "\u001b[0;32m<ipython-input-37-0526599b881b>\u001b[0m in \u001b[0;36m<module>\u001b[0;34m()\u001b[0m\n\u001b[1;32m      1\u001b[0m \u001b[0mcatena_quasi_sinonimi\u001b[0m\u001b[0;34m=\u001b[0m\u001b[0mwn\u001b[0m\u001b[0;34m.\u001b[0m\u001b[0msynset\u001b[0m\u001b[0;34m(\u001b[0m\u001b[0;34m'good.n.02'\u001b[0m\u001b[0;34m)\u001b[0m\u001b[0;34m\u001b[0m\u001b[0;34m\u001b[0m\u001b[0m\n\u001b[1;32m      2\u001b[0m \u001b[0mprint\u001b[0m\u001b[0;34m(\u001b[0m\u001b[0mcatena_quasi_sinonimi\u001b[0m\u001b[0;34m.\u001b[0m\u001b[0mlemmas\u001b[0m\u001b[0;34m(\u001b[0m\u001b[0;34m)\u001b[0m\u001b[0;34m)\u001b[0m\u001b[0;34m\u001b[0m\u001b[0;34m\u001b[0m\u001b[0m\n\u001b[0;32m----> 3\u001b[0;31m \u001b[0mprint\u001b[0m\u001b[0;34m(\u001b[0m\u001b[0mcatena_quasi_sinonimi\u001b[0m\u001b[0;34m.\u001b[0m\u001b[0mlemmas\u001b[0m\u001b[0;34m(\u001b[0m\u001b[0;34m)\u001b[0m\u001b[0;34m[\u001b[0m\u001b[0;36m2\u001b[0m\u001b[0;34m]\u001b[0m\u001b[0;34m.\u001b[0m\u001b[0mname\u001b[0m\u001b[0;34m(\u001b[0m\u001b[0;34m)\u001b[0m\u001b[0;34m)\u001b[0m\u001b[0;34m\u001b[0m\u001b[0;34m\u001b[0m\u001b[0m\n\u001b[0m\u001b[1;32m      4\u001b[0m \u001b[0mprint\u001b[0m\u001b[0;34m(\u001b[0m\u001b[0mcatena_quasi_sinonimi\u001b[0m\u001b[0;34m.\u001b[0m\u001b[0mlemmas\u001b[0m\u001b[0;34m(\u001b[0m\u001b[0;34m)\u001b[0m\u001b[0;34m[\u001b[0m\u001b[0;36m2\u001b[0m\u001b[0;34m]\u001b[0m\u001b[0;34m.\u001b[0m\u001b[0mantonyms\u001b[0m\u001b[0;34m(\u001b[0m\u001b[0;34m)\u001b[0m\u001b[0;34m)\u001b[0m\u001b[0;34m\u001b[0m\u001b[0;34m\u001b[0m\u001b[0m\n",
            "\u001b[0;31mIndexError\u001b[0m: list index out of range"
          ]
        }
      ]
    },
    {
      "cell_type": "code",
      "metadata": {
        "colab": {
          "base_uri": "https://localhost:8080/",
          "height": 234
        },
        "id": "nqz1sCmfrvpQ",
        "outputId": "173c0a89-7735-4aa7-a1ee-31a820896a3e"
      },
      "source": [
        "catena_quasi_sinonimi=wn.synset('good.n.03')\n",
        "print(catena_quasi_sinonimi.lemmas())\n",
        "print(catena_quasi_sinonimi.lemmas()[1].name())\n",
        "print(catena_quasi_sinonimi.lemmas()[1].antonyms())"
      ],
      "execution_count": 40,
      "outputs": [
        {
          "output_type": "stream",
          "text": [
            "[Lemma('good.n.03.good'), Lemma('good.n.03.goodness')]\n"
          ],
          "name": "stdout"
        },
        {
          "output_type": "error",
          "ename": "IndexError",
          "evalue": "ignored",
          "traceback": [
            "\u001b[0;31m---------------------------------------------------------------------------\u001b[0m",
            "\u001b[0;31mIndexError\u001b[0m                                Traceback (most recent call last)",
            "\u001b[0;32m<ipython-input-40-876d8db2db06>\u001b[0m in \u001b[0;36m<module>\u001b[0;34m()\u001b[0m\n\u001b[1;32m      1\u001b[0m \u001b[0mcatena_quasi_sinonimi\u001b[0m\u001b[0;34m=\u001b[0m\u001b[0mwn\u001b[0m\u001b[0;34m.\u001b[0m\u001b[0msynset\u001b[0m\u001b[0;34m(\u001b[0m\u001b[0;34m'good.n.03'\u001b[0m\u001b[0;34m)\u001b[0m\u001b[0;34m\u001b[0m\u001b[0;34m\u001b[0m\u001b[0m\n\u001b[1;32m      2\u001b[0m \u001b[0mprint\u001b[0m\u001b[0;34m(\u001b[0m\u001b[0mcatena_quasi_sinonimi\u001b[0m\u001b[0;34m.\u001b[0m\u001b[0mlemmas\u001b[0m\u001b[0;34m(\u001b[0m\u001b[0;34m)\u001b[0m\u001b[0;34m)\u001b[0m\u001b[0;34m\u001b[0m\u001b[0;34m\u001b[0m\u001b[0m\n\u001b[0;32m----> 3\u001b[0;31m \u001b[0mprint\u001b[0m\u001b[0;34m(\u001b[0m\u001b[0mcatena_quasi_sinonimi\u001b[0m\u001b[0;34m.\u001b[0m\u001b[0mlemmas\u001b[0m\u001b[0;34m(\u001b[0m\u001b[0;34m)\u001b[0m\u001b[0;34m[\u001b[0m\u001b[0;36m2\u001b[0m\u001b[0;34m]\u001b[0m\u001b[0;34m.\u001b[0m\u001b[0mname\u001b[0m\u001b[0;34m(\u001b[0m\u001b[0;34m)\u001b[0m\u001b[0;34m)\u001b[0m\u001b[0;34m\u001b[0m\u001b[0;34m\u001b[0m\u001b[0m\n\u001b[0m\u001b[1;32m      4\u001b[0m \u001b[0mprint\u001b[0m\u001b[0;34m(\u001b[0m\u001b[0mcatena_quasi_sinonimi\u001b[0m\u001b[0;34m.\u001b[0m\u001b[0mlemmas\u001b[0m\u001b[0;34m(\u001b[0m\u001b[0;34m)\u001b[0m\u001b[0;34m[\u001b[0m\u001b[0;36m2\u001b[0m\u001b[0;34m]\u001b[0m\u001b[0;34m.\u001b[0m\u001b[0mantonyms\u001b[0m\u001b[0;34m(\u001b[0m\u001b[0;34m)\u001b[0m\u001b[0;34m)\u001b[0m\u001b[0;34m\u001b[0m\u001b[0;34m\u001b[0m\u001b[0m\n",
            "\u001b[0;31mIndexError\u001b[0m: list index out of range"
          ]
        }
      ]
    },
    {
      "cell_type": "code",
      "metadata": {
        "colab": {
          "base_uri": "https://localhost:8080/",
          "height": 165
        },
        "id": "ggl3yaCzsCbw",
        "outputId": "809f6232-298d-4d7c-c34a-69dfa14f51b8"
      },
      "source": [
        "print(catena_quasi_sinonimi.lemmas()[0].antonyms()[1].name())"
      ],
      "execution_count": 45,
      "outputs": [
        {
          "output_type": "error",
          "ename": "IndexError",
          "evalue": "ignored",
          "traceback": [
            "\u001b[0;31m---------------------------------------------------------------------------\u001b[0m",
            "\u001b[0;31mIndexError\u001b[0m                                Traceback (most recent call last)",
            "\u001b[0;32m<ipython-input-45-41b5cf9f8068>\u001b[0m in \u001b[0;36m<module>\u001b[0;34m()\u001b[0m\n\u001b[0;32m----> 1\u001b[0;31m \u001b[0mprint\u001b[0m\u001b[0;34m(\u001b[0m\u001b[0mcatena_quasi_sinonimi\u001b[0m\u001b[0;34m.\u001b[0m\u001b[0mlemmas\u001b[0m\u001b[0;34m(\u001b[0m\u001b[0;34m)\u001b[0m\u001b[0;34m[\u001b[0m\u001b[0;36m0\u001b[0m\u001b[0;34m]\u001b[0m\u001b[0;34m.\u001b[0m\u001b[0mantonyms\u001b[0m\u001b[0;34m(\u001b[0m\u001b[0;34m)\u001b[0m\u001b[0;34m[\u001b[0m\u001b[0;36m1\u001b[0m\u001b[0;34m]\u001b[0m\u001b[0;34m.\u001b[0m\u001b[0mname\u001b[0m\u001b[0;34m(\u001b[0m\u001b[0;34m)\u001b[0m\u001b[0;34m)\u001b[0m\u001b[0;34m\u001b[0m\u001b[0;34m\u001b[0m\u001b[0m\n\u001b[0m",
            "\u001b[0;31mIndexError\u001b[0m: list index out of range"
          ]
        }
      ]
    },
    {
      "cell_type": "markdown",
      "metadata": {
        "id": "AKwHVBSSsWMj"
      },
      "source": [
        "Stampa la lista di contrari di un dato senso (il 5 in wordnet) per la parola home di categoria n"
      ]
    },
    {
      "cell_type": "code",
      "metadata": {
        "colab": {
          "base_uri": "https://localhost:8080/"
        },
        "id": "BeKGtbyqsbjB",
        "outputId": "0781a837-3942-4a8e-f515-d52a2808a7c3"
      },
      "source": [
        "#sinonimo è inteso come senso\n",
        "\n",
        "catena_quasi_sinonimi_per_home=wn.synset('home.n.05')\n",
        "\n",
        "#lista dei sinonimi di home\n",
        "print(\"\\n\\nlista dei sinonimi di home=\")\n",
        "print(catena_quasi_sinonimi_per_home.lemmas())\n",
        "\n",
        "#nome del primo sinonimo\n",
        "print(\"\\n\\nnome del primo sinonimo=\")\n",
        "print(catena_quasi_sinonimi.lemmas()[0].name())\n",
        "\n",
        "#lista dei contrari del primo sinonomo\n",
        "print(\"\\n\\nlista dei contrari del primo sinonomo=\")\n",
        "print(catena_quasi_sinonimi.lemmas()[0].antonyms())"
      ],
      "execution_count": 47,
      "outputs": [
        {
          "output_type": "stream",
          "text": [
            "\n",
            "\n",
            "lista dei sinonimi di home=\n",
            "[Lemma('base.n.14.base'), Lemma('base.n.14.home')]\n",
            "\n",
            "\n",
            "nome del primo sinonimo=\n",
            "good\n",
            "\n",
            "\n",
            "lista dei contrari del primo sinonomo=\n",
            "[Lemma('bad.n.01.bad')]\n"
          ],
          "name": "stdout"
        }
      ]
    },
    {
      "cell_type": "code",
      "metadata": {
        "colab": {
          "base_uri": "https://localhost:8080/",
          "height": 355
        },
        "id": "0C6rxk-XtDtR",
        "outputId": "34adef04-24b0-4e44-980b-325a29076888"
      },
      "source": [
        "#sinonimo è inteso come senso\n",
        "\n",
        "catena_quasi_sinonimi_per_home=wn.synset('home.n.05')\n",
        "\n",
        "#lista dei sinonimi di home\n",
        "print(\"\\n\\nlista dei sinonimi di home=\")\n",
        "print(catena_quasi_sinonimi_per_home.lemmas())\n",
        "\n",
        "#nome del primo sinonimo\n",
        "print(\"\\n\\nnome del primo sinonimo=\")\n",
        "print(catena_quasi_sinonimi.lemmas()[2].name())\n",
        "\n",
        "#lista dei contrari del primo sinonomo\n",
        "print(\"\\n\\nlista dei contrari del primo sinonomo=\")\n",
        "print(catena_quasi_sinonimi.lemmas()[2].antonyms())"
      ],
      "execution_count": 49,
      "outputs": [
        {
          "output_type": "stream",
          "text": [
            "\n",
            "\n",
            "lista dei sinonimi di home=\n",
            "[Lemma('base.n.14.base'), Lemma('base.n.14.home')]\n",
            "\n",
            "\n",
            "nome del primo sinonimo=\n"
          ],
          "name": "stdout"
        },
        {
          "output_type": "error",
          "ename": "IndexError",
          "evalue": "ignored",
          "traceback": [
            "\u001b[0;31m---------------------------------------------------------------------------\u001b[0m",
            "\u001b[0;31mIndexError\u001b[0m                                Traceback (most recent call last)",
            "\u001b[0;32m<ipython-input-49-aac6f8372ff7>\u001b[0m in \u001b[0;36m<module>\u001b[0;34m()\u001b[0m\n\u001b[1;32m      9\u001b[0m \u001b[0;31m#nome del primo sinonimo\u001b[0m\u001b[0;34m\u001b[0m\u001b[0;34m\u001b[0m\u001b[0;34m\u001b[0m\u001b[0m\n\u001b[1;32m     10\u001b[0m \u001b[0mprint\u001b[0m\u001b[0;34m(\u001b[0m\u001b[0;34m\"\\n\\nnome del primo sinonimo=\"\u001b[0m\u001b[0;34m)\u001b[0m\u001b[0;34m\u001b[0m\u001b[0;34m\u001b[0m\u001b[0m\n\u001b[0;32m---> 11\u001b[0;31m \u001b[0mprint\u001b[0m\u001b[0;34m(\u001b[0m\u001b[0mcatena_quasi_sinonimi\u001b[0m\u001b[0;34m.\u001b[0m\u001b[0mlemmas\u001b[0m\u001b[0;34m(\u001b[0m\u001b[0;34m)\u001b[0m\u001b[0;34m[\u001b[0m\u001b[0;36m2\u001b[0m\u001b[0;34m]\u001b[0m\u001b[0;34m.\u001b[0m\u001b[0mname\u001b[0m\u001b[0;34m(\u001b[0m\u001b[0;34m)\u001b[0m\u001b[0;34m)\u001b[0m\u001b[0;34m\u001b[0m\u001b[0;34m\u001b[0m\u001b[0m\n\u001b[0m\u001b[1;32m     12\u001b[0m \u001b[0;34m\u001b[0m\u001b[0m\n\u001b[1;32m     13\u001b[0m \u001b[0;31m#lista dei contrari del primo sinonomo\u001b[0m\u001b[0;34m\u001b[0m\u001b[0;34m\u001b[0m\u001b[0;34m\u001b[0m\u001b[0m\n",
            "\u001b[0;31mIndexError\u001b[0m: list index out of range"
          ]
        }
      ]
    },
    {
      "cell_type": "markdown",
      "metadata": {
        "id": "YWmpnCeQu47H"
      },
      "source": [
        "#Misure di similiarità tra concetti (synset)\n"
      ]
    },
    {
      "cell_type": "code",
      "metadata": {
        "colab": {
          "base_uri": "https://localhost:8080/"
        },
        "id": "QMF7lc82u9we",
        "outputId": "d880ab50-0847-4d1c-cd0c-571f5e6bfe27"
      },
      "source": [
        "print(wn.synsets('bad'))"
      ],
      "execution_count": 50,
      "outputs": [
        {
          "output_type": "stream",
          "text": [
            "[Synset('bad.n.01'), Synset('bad.a.01'), Synset('bad.s.02'), Synset('bad.s.03'), Synset('bad.s.04'), Synset('regretful.a.01'), Synset('bad.s.06'), Synset('bad.s.07'), Synset('bad.s.08'), Synset('bad.s.09'), Synset('bad.s.10'), Synset('bad.s.11'), Synset('bad.s.12'), Synset('bad.s.13'), Synset('bad.s.14'), Synset('badly.r.05'), Synset('badly.r.06')]\n"
          ],
          "name": "stdout"
        }
      ]
    },
    {
      "cell_type": "code",
      "metadata": {
        "colab": {
          "base_uri": "https://localhost:8080/"
        },
        "id": "opAxatpEwAt6",
        "outputId": "7b80f2c3-ad6e-4473-c1ec-7e744b39f967"
      },
      "source": [
        "word_1=wn.synset('good.n.01')\n",
        "word_2=wn.synset('bad.n.01')\n",
        "\n",
        "#calcolo la similarità tra good e bad\n",
        "print(word_1.wup_similarity(word_2))\n",
        "print(word_1.wup_similarity(word_3))"
      ],
      "execution_count": 61,
      "outputs": [
        {
          "output_type": "stream",
          "text": [
            "0.6666666666666666\n",
            "0.25\n"
          ],
          "name": "stdout"
        }
      ]
    },
    {
      "cell_type": "code",
      "metadata": {
        "colab": {
          "base_uri": "https://localhost:8080/"
        },
        "id": "YGr0gt21yH47",
        "outputId": "517a54a5-d280-48b5-8968-e53130822222"
      },
      "source": [
        "#calcolo la similarità tra good e bad\n",
        "print(word_3.wup_similarity(word_1))\n",
        "print(word_3.wup_similarity(word_2))\n",
        "\n",
        "print(word_3.path_similarity(word_1))\n",
        "print(word_3.path_similarity(word_2))"
      ],
      "execution_count": 69,
      "outputs": [
        {
          "output_type": "stream",
          "text": [
            "0.25\n",
            "0.2857142857142857\n",
            "0.07692307692307693\n",
            "0.09090909090909091\n"
          ],
          "name": "stdout"
        }
      ]
    },
    {
      "cell_type": "code",
      "metadata": {
        "colab": {
          "base_uri": "https://localhost:8080/"
        },
        "id": "bKOrZurlwcnp",
        "outputId": "35842a53-90cb-4b1c-a790-675a181a3ab6"
      },
      "source": [
        "print(word_2.wup_similarity(word_1))"
      ],
      "execution_count": 52,
      "outputs": [
        {
          "output_type": "stream",
          "text": [
            "0.6666666666666666\n"
          ],
          "name": "stdout"
        }
      ]
    },
    {
      "cell_type": "code",
      "metadata": {
        "colab": {
          "base_uri": "https://localhost:8080/"
        },
        "id": "NOdygLGzwkxD",
        "outputId": "037e8ada-23f3-4c31-ae30-8c27a384766a"
      },
      "source": [
        "word_3=wn.synset('evil.n.01')\n",
        "\n",
        "#calcoliamo quando evil è simile a good\n",
        "#good-> calcola similiarià con evil\n",
        "print(word_1.wup_similarity(word_3))"
      ],
      "execution_count": 55,
      "outputs": [
        {
          "output_type": "stream",
          "text": [
            "0.25\n"
          ],
          "name": "stdout"
        }
      ]
    },
    {
      "cell_type": "code",
      "metadata": {
        "colab": {
          "base_uri": "https://localhost:8080/"
        },
        "id": "kVFeSJKkxDMC",
        "outputId": "1f3fbc7e-0177-48f6-c008-02315fe6ef9b"
      },
      "source": [
        "#calcoliamo quando evil è simile a bad\n",
        "print(word_2.wup_similarity(word_3))"
      ],
      "execution_count": 56,
      "outputs": [
        {
          "output_type": "stream",
          "text": [
            "0.2857142857142857\n"
          ],
          "name": "stdout"
        }
      ]
    },
    {
      "cell_type": "code",
      "metadata": {
        "colab": {
          "base_uri": "https://localhost:8080/",
          "height": 165
        },
        "id": "yQ-MsH0nxepw",
        "outputId": "7ea89058-0ed2-4e73-cbd8-0eb50075b48c"
      },
      "source": [
        "help(wup_similarity)"
      ],
      "execution_count": 60,
      "outputs": [
        {
          "output_type": "error",
          "ename": "NameError",
          "evalue": "ignored",
          "traceback": [
            "\u001b[0;31m---------------------------------------------------------------------------\u001b[0m",
            "\u001b[0;31mNameError\u001b[0m                                 Traceback (most recent call last)",
            "\u001b[0;32m<ipython-input-60-46ed590bf4ec>\u001b[0m in \u001b[0;36m<module>\u001b[0;34m()\u001b[0m\n\u001b[0;32m----> 1\u001b[0;31m \u001b[0mhelp\u001b[0m\u001b[0;34m(\u001b[0m\u001b[0mwup_similarity\u001b[0m\u001b[0;34m)\u001b[0m\u001b[0;34m\u001b[0m\u001b[0;34m\u001b[0m\u001b[0m\n\u001b[0m",
            "\u001b[0;31mNameError\u001b[0m: name 'wup_similarity' is not defined"
          ]
        }
      ]
    },
    {
      "cell_type": "code",
      "metadata": {
        "colab": {
          "base_uri": "https://localhost:8080/"
        },
        "id": "EIaLxt1CyS8p",
        "outputId": "89317e91-4e8c-4567-8e74-c82414c89d91"
      },
      "source": [
        "word_eat=wn.synset('eat.v.01')\n",
        "word_sleep=wn.synset('sleep.v.01')\n",
        "word_run=wn.synset('run.v.01')\n",
        "print(word_eat.wup_similarity(word_sleep))\n",
        "print(word_eat.wup_similarity(word_run))\n",
        "print(word_sleep.wup_similarity(word_run))"
      ],
      "execution_count": 66,
      "outputs": [
        {
          "output_type": "stream",
          "text": [
            "0.25\n",
            "0.2857142857142857\n",
            "0.2222222222222222\n"
          ],
          "name": "stdout"
        }
      ]
    },
    {
      "cell_type": "code",
      "metadata": {
        "colab": {
          "base_uri": "https://localhost:8080/"
        },
        "id": "dCAmMz9dyxxU",
        "outputId": "21cb26f7-82ba-49a4-e95f-0043093fd72a"
      },
      "source": [
        "word_cat=wn.synset('cat.v.01')\n",
        "word_dog=wn.synset('dog.v.01')\n",
        "print(word_cat.wup_similarity(word_dog))\n",
        "print(word_cat.path_similarity(word_dog))"
      ],
      "execution_count": 68,
      "outputs": [
        {
          "output_type": "stream",
          "text": [
            "0.25\n",
            "0.14285714285714285\n"
          ],
          "name": "stdout"
        }
      ]
    },
    {
      "cell_type": "markdown",
      "metadata": {
        "id": "kAtzUwdazd-L"
      },
      "source": [
        "#Concetti più generali e concetti più specializzati"
      ]
    },
    {
      "cell_type": "code",
      "metadata": {
        "colab": {
          "base_uri": "https://localhost:8080/"
        },
        "id": "zavMzK90ziW3",
        "outputId": "2a4061eb-55d4-414d-8a00-1c43ea5f55d1"
      },
      "source": [
        "#individua il concetto più generale\n",
        "\n",
        "cat=wn.synset('cat.n.01')\n",
        "print(cat.hypernyms())"
      ],
      "execution_count": 70,
      "outputs": [
        {
          "output_type": "stream",
          "text": [
            "[Synset('feline.n.01')]\n"
          ],
          "name": "stdout"
        }
      ]
    },
    {
      "cell_type": "code",
      "metadata": {
        "colab": {
          "base_uri": "https://localhost:8080/"
        },
        "id": "cZ4oCwu8zx6J",
        "outputId": "335a663b-4de4-4faa-aa0a-ebc2f68afbd1"
      },
      "source": [
        "#individua il concetto più generale\n",
        "\n",
        "feline=wn.synset('feline.n.01')\n",
        "print(feline.hypernyms())"
      ],
      "execution_count": 71,
      "outputs": [
        {
          "output_type": "stream",
          "text": [
            "[Synset('carnivore.n.01')]\n"
          ],
          "name": "stdout"
        }
      ]
    },
    {
      "cell_type": "code",
      "metadata": {
        "colab": {
          "base_uri": "https://localhost:8080/"
        },
        "id": "_-cQgCrVz_Ux",
        "outputId": "4e615c11-6627-47fb-eee8-838f42fcad39"
      },
      "source": [
        "#individua il concetto più specializzato\n",
        "cat=wn.synset('cat.n.01')\n",
        "print(cat.hyponyms())"
      ],
      "execution_count": 72,
      "outputs": [
        {
          "output_type": "stream",
          "text": [
            "[Synset('domestic_cat.n.01'), Synset('wildcat.n.03')]\n"
          ],
          "name": "stdout"
        }
      ]
    },
    {
      "cell_type": "code",
      "metadata": {
        "colab": {
          "base_uri": "https://localhost:8080/"
        },
        "id": "MMt4pGaP0LLi",
        "outputId": "713fd3f0-951a-460e-c92d-6f0fd1e21ff7"
      },
      "source": [
        "#individua il concetto parte di\n",
        "cat=wn.synset('dog.n.01')\n",
        "cat.member_holonyms()"
      ],
      "execution_count": 78,
      "outputs": [
        {
          "output_type": "execute_result",
          "data": {
            "text/plain": [
              "[Synset('canis.n.01'), Synset('pack.n.06')]"
            ]
          },
          "metadata": {
            "tags": []
          },
          "execution_count": 78
        }
      ]
    },
    {
      "cell_type": "code",
      "metadata": {
        "colab": {
          "base_uri": "https://localhost:8080/"
        },
        "id": "auOBReft0OTW",
        "outputId": "5009f26b-dd48-4c24-fde0-3e258344dc1b"
      },
      "source": [
        "bicicletta=wn.synset('wheel.n.01')\n",
        "bicicletta.member_meronyms()"
      ],
      "execution_count": 82,
      "outputs": [
        {
          "output_type": "execute_result",
          "data": {
            "text/plain": [
              "[]"
            ]
          },
          "metadata": {
            "tags": []
          },
          "execution_count": 82
        }
      ]
    }
  ]
}