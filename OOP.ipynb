{
  "nbformat": 4,
  "nbformat_minor": 0,
  "metadata": {
    "colab": {
      "name": "OOP.ipynb",
      "provenance": [],
      "collapsed_sections": [],
      "include_colab_link": true
    },
    "kernelspec": {
      "name": "python3",
      "display_name": "Python 3"
    },
    "language_info": {
      "name": "python"
    }
  },
  "cells": [
    {
      "cell_type": "markdown",
      "metadata": {
        "id": "view-in-github",
        "colab_type": "text"
      },
      "source": [
        "<a href=\"https://colab.research.google.com/github/FloraAmato/Lezioni/blob/main/OOP.ipynb\" target=\"_parent\"><img src=\"https://colab.research.google.com/assets/colab-badge.svg\" alt=\"Open In Colab\"/></a>"
      ]
    },
    {
      "cell_type": "markdown",
      "metadata": {
        "id": "aq3EZWQtHXlp"
      },
      "source": [
        "#La programmazione a Oggetti"
      ]
    },
    {
      "cell_type": "markdown",
      "metadata": {
        "id": "nDgwHYbqHbW3"
      },
      "source": [
        "##Le Classi"
      ]
    },
    {
      "cell_type": "code",
      "metadata": {
        "id": "FPWAOG05E2IC"
      },
      "source": [
        "\n",
        "class nome_Classe:  #definizione della classe, con la parola chiave class seguita dal nome della classe e dai :\n",
        "\n",
        "#non c'è bisogno di dichiarare esplicitamente le variabili (ovvero gli attributi!) delle variabili\n",
        "\n",
        "#definizione dei metodi della Classe\n",
        "\n",
        "#questi metodi saranno a disposizione di tutti gli oggetti della classe\n",
        "  #modificatore set\n",
        "  def setData(self, valore): #il primo parametro è il riferimento all'oggetto stesso\n",
        "    #in questo metodo si definisce anche un attributo: data\n",
        "    #qesto metodo ci dice che la classe ha anche l'attributo data  \n",
        "    self.data= valore   #self è il riferimento all'oggetto stesso\n",
        "    #facciamo riferimento a data direttamente tramite l'operatore .\n",
        "    #direttamente dall'oggetto\n",
        "    #quindi abbiamo aassegnato un valore all'attributo data\n",
        "    #e come al solito in Python, all'atto dell'assegnazione abbiamo anche dichiarato l'attributo data\n",
        "\n",
        "  #selettore get\n",
        "  def getData(self):\n",
        "    return self.data #restituisce il valore dell'attributo data\n",
        "\n",
        "  #costruttore della classe\n",
        "  def __init__(self,valore):\n",
        "    return self.setDati(valore)\n"
      ],
      "execution_count": null,
      "outputs": []
    },
    {
      "cell_type": "markdown",
      "metadata": {
        "id": "gPp_oUANJXeg"
      },
      "source": [
        "##Esempio di Classe"
      ]
    },
    {
      "cell_type": "code",
      "metadata": {
        "id": "ebPioh6NH30b"
      },
      "source": [
        "class Studente:\n",
        "# nome, cognome, matricola, mediaEsamiStostenuti, ListaEsami\n",
        "#self.matricola = 0  \n",
        "#metodi set\n",
        " def setNome(self, valore): \n",
        "   self.nome= valore \n",
        " def setCognome(self, valore): \n",
        "   self.cognome= valore \n",
        " def setMatricola(self, valore): \n",
        "   self.matricola= valore \n",
        " def setMedia(self, valore): \n",
        "   self.mediaEsamiStostenuti= valore \n",
        " def setEsame(self,NomeEsame,Voto):\n",
        "   self.ListaEsami[NomeEsame]=Voto\n",
        "\n",
        "#metodi get\n",
        " def getNome(self): \n",
        "   return self.nome \n",
        " def getCognome(self): \n",
        "   return self.cognome \n",
        " def getMatricola(self): \n",
        "   return self.matricola \n",
        " def getMedia(self): \n",
        "   return self.mediaEsamiStostenuti \n",
        " def getEsame(self,NomeEsame):\n",
        "   return self.ListaEsami.get(NomeEsame,-1) \n",
        "\n",
        " def __init__(self,valore_nome,valore_cognome,valore_matricola):\n",
        "  self.setNome(valore_nome)\n",
        "  self.setCognome(valore_cognome)\n",
        "  self.setMatricola(valore_matricola)\n",
        "  self.ListaEsami={}\n",
        "\n",
        " def display(self,nome):\n",
        "  print(\"Nome : \",self.nome)\n",
        "  print(\"Cognome : \",self.cognome)\n",
        "  print(\"Matricola : \",self.matricola)\n",
        "  print(\"Media Esami : \",self.getMedia())\n",
        "\n"
      ],
      "execution_count": null,
      "outputs": []
    },
    {
      "cell_type": "code",
      "metadata": {
        "id": "vHPSuG2YV8W2"
      },
      "source": [
        ""
      ],
      "execution_count": null,
      "outputs": []
    },
    {
      "cell_type": "code",
      "metadata": {
        "colab": {
          "base_uri": "https://localhost:8080/",
          "height": 316
        },
        "id": "NFnnS98_Sj2j",
        "outputId": "e87917c1-b58d-408d-ed5a-b785b0dc5129"
      },
      "source": [
        "alessandra.display(\"Alessandra\")"
      ],
      "execution_count": null,
      "outputs": [
        {
          "output_type": "stream",
          "text": [
            "Nome :  Alessandra\n",
            "Cognome :  Ama\n",
            "Matricola :  236\n"
          ],
          "name": "stdout"
        },
        {
          "output_type": "error",
          "ename": "AttributeError",
          "evalue": "ignored",
          "traceback": [
            "\u001b[0;31m---------------------------------------------------------------------------\u001b[0m",
            "\u001b[0;31mAttributeError\u001b[0m                            Traceback (most recent call last)",
            "\u001b[0;32m<ipython-input-5-752b4f7fc85d>\u001b[0m in \u001b[0;36m<module>\u001b[0;34m()\u001b[0m\n\u001b[0;32m----> 1\u001b[0;31m \u001b[0malessandra\u001b[0m\u001b[0;34m.\u001b[0m\u001b[0mdisplay\u001b[0m\u001b[0;34m(\u001b[0m\u001b[0;34m\"Alessandra\"\u001b[0m\u001b[0;34m)\u001b[0m\u001b[0;34m\u001b[0m\u001b[0;34m\u001b[0m\u001b[0m\n\u001b[0m",
            "\u001b[0;32m<ipython-input-2-ba3b6bd7f405>\u001b[0m in \u001b[0;36mdisplay\u001b[0;34m(self, nome)\u001b[0m\n\u001b[1;32m     32\u001b[0m   \u001b[0mprint\u001b[0m\u001b[0;34m(\u001b[0m\u001b[0;34m\"Cognome : \"\u001b[0m\u001b[0;34m,\u001b[0m\u001b[0mself\u001b[0m\u001b[0;34m.\u001b[0m\u001b[0mcognome\u001b[0m\u001b[0;34m)\u001b[0m\u001b[0;34m\u001b[0m\u001b[0;34m\u001b[0m\u001b[0m\n\u001b[1;32m     33\u001b[0m   \u001b[0mprint\u001b[0m\u001b[0;34m(\u001b[0m\u001b[0;34m\"Matricola : \"\u001b[0m\u001b[0;34m,\u001b[0m\u001b[0mself\u001b[0m\u001b[0;34m.\u001b[0m\u001b[0mmatricola\u001b[0m\u001b[0;34m)\u001b[0m\u001b[0;34m\u001b[0m\u001b[0;34m\u001b[0m\u001b[0m\n\u001b[0;32m---> 34\u001b[0;31m   \u001b[0mprint\u001b[0m\u001b[0;34m(\u001b[0m\u001b[0;34m\"Media Esami : \"\u001b[0m\u001b[0;34m,\u001b[0m\u001b[0mself\u001b[0m\u001b[0;34m.\u001b[0m\u001b[0mmediaEsamiStostenuti\u001b[0m\u001b[0;34m)\u001b[0m\u001b[0;34m\u001b[0m\u001b[0;34m\u001b[0m\u001b[0m\n\u001b[0m\u001b[1;32m     35\u001b[0m \u001b[0;34m\u001b[0m\u001b[0m\n",
            "\u001b[0;31mAttributeError\u001b[0m: 'Studente' object has no attribute 'mediaEsamiStostenuti'"
          ]
        }
      ]
    },
    {
      "cell_type": "code",
      "metadata": {
        "colab": {
          "base_uri": "https://localhost:8080/"
        },
        "id": "c_aKB6a8S30y",
        "outputId": "e75db569-767d-4fae-e386-890ac1bbac4e"
      },
      "source": [
        "alessandra.setMedia(30)\n",
        "alessandra.display(\"Alessandra\")\n"
      ],
      "execution_count": null,
      "outputs": [
        {
          "output_type": "stream",
          "text": [
            "Nome :  Alessandra\n",
            "Cognome :  Ama\n",
            "Matricola :  236\n",
            "Media Esami :  30\n"
          ],
          "name": "stdout"
        }
      ]
    },
    {
      "cell_type": "code",
      "metadata": {
        "id": "OLW9B0BIV3EE"
      },
      "source": [
        "alessandra.s"
      ],
      "execution_count": null,
      "outputs": []
    },
    {
      "cell_type": "code",
      "metadata": {
        "id": "mRrqxnXbJW1f"
      },
      "source": [
        "#istanzio la classe: creo oggetti della classe studente\n",
        "flora=Studente()"
      ],
      "execution_count": null,
      "outputs": []
    },
    {
      "cell_type": "code",
      "metadata": {
        "id": "7bjgyqWWQin6"
      },
      "source": [
        "alessandra=Studente(\"Alessandra\",\"Ama\",236)"
      ],
      "execution_count": null,
      "outputs": []
    },
    {
      "cell_type": "code",
      "metadata": {
        "colab": {
          "base_uri": "https://localhost:8080/",
          "height": 35
        },
        "id": "Jq5KdpL4Rjtg",
        "outputId": "5ffd47cb-a273-45f6-d507-90508c9cfc81"
      },
      "source": [
        "alessandra.getCognome()"
      ],
      "execution_count": null,
      "outputs": [
        {
          "output_type": "execute_result",
          "data": {
            "application/vnd.google.colaboratory.intrinsic+json": {
              "type": "string"
            },
            "text/plain": [
              "'Ama'"
            ]
          },
          "metadata": {
            "tags": []
          },
          "execution_count": 21
        }
      ]
    },
    {
      "cell_type": "code",
      "metadata": {
        "colab": {
          "base_uri": "https://localhost:8080/"
        },
        "id": "hcXEVpzGRmCR",
        "outputId": "2621b462-e713-4c06-d7bf-55ff4726381b"
      },
      "source": [
        "alessandra.getMatricola()"
      ],
      "execution_count": null,
      "outputs": [
        {
          "output_type": "execute_result",
          "data": {
            "text/plain": [
              "236"
            ]
          },
          "metadata": {
            "tags": []
          },
          "execution_count": 4
        }
      ]
    },
    {
      "cell_type": "markdown",
      "metadata": {
        "id": "W0Sb4qinYu_n"
      },
      "source": [
        ""
      ]
    },
    {
      "cell_type": "code",
      "metadata": {
        "colab": {
          "base_uri": "https://localhost:8080/"
        },
        "id": "OL9FcZbeV_Df",
        "outputId": "4829934b-c0a9-4c52-d417-50e76c3348f1"
      },
      "source": [
        "alessandra=Studente(\"Alessandra\",\"Scarano\",111)\n",
        "alessandra.setEsame(\"Matematica\",18 )\n",
        "alessandra.getEsame(\"Matematica\")\n",
        "alessandra.getEsame(\"Fisica\")\n"
      ],
      "execution_count": null,
      "outputs": [
        {
          "output_type": "execute_result",
          "data": {
            "text/plain": [
              "-1"
            ]
          },
          "metadata": {
            "tags": []
          },
          "execution_count": 25
        }
      ]
    },
    {
      "cell_type": "markdown",
      "metadata": {
        "id": "85ki3JfcZckp"
      },
      "source": [
        "##Creiamo una nuova Classe \n",
        "Classe Corso di Studi che contiene le informazioni sugli studenti"
      ]
    },
    {
      "cell_type": "code",
      "metadata": {
        "id": "hwl3m-UEZi3f"
      },
      "source": [
        "class CorsoDiStudi:\n",
        "\n",
        " matricola=0\n",
        " def setNome(self, valore):\n",
        "   self.nome= valore \n",
        " def setNumeroAnni(self, valore): \n",
        "   self.numeroAnni= valore \n",
        " def setPrefissoMatricola(self, valore): \n",
        "   self.prefissoMatricola= valore \n",
        " \n",
        "\n",
        "\n",
        "#metodi get\n",
        " def getNome(self): \n",
        "   return self.nome \n",
        " def getNumeroAnni(self): \n",
        "   return self.numeroAnni \n",
        " def getPrefissoMatricola(self): \n",
        "   return self.prefissoMatricola \n",
        " def getListaStudenti(self):\n",
        "   for s in self.ListaStudenti:\n",
        "     print(s.getNome(),\"   \", s.getCognome(),\"   \", s.getMatricola())\n",
        " \n",
        "\n",
        " def __init__(self,valore_nome,valore_numeroAnni,valore_prefissoMatricola):\n",
        "  self.setNome(valore_nome)\n",
        "  self.setNumeroAnni(valore_numeroAnni)\n",
        "  self.setPrefissoMatricola(valore_prefissoMatricola)\n",
        "  self.ListaStudenti=[]\n",
        "\n",
        " #crea un ogetto studente in base ai dati e lo aggiunge al corso di studi\n",
        " def aggiungiStudente(self,valore_nome,valore_cognome):\n",
        "   self.matricola=self.matricola+1\n",
        "   #costruttore di studente\n",
        "   nuovo_studente=Studente(valore_nome,valore_cognome,self.matricola)\n",
        "   #aggiungi alla lista degli studenti\n",
        "   self.ListaStudenti.append(nuovo_studente)\n",
        "\n"
      ],
      "execution_count": null,
      "outputs": []
    },
    {
      "cell_type": "markdown",
      "metadata": {
        "id": "_lGydih7crJE"
      },
      "source": [
        "Usiamo la classe Corso di Studi"
      ]
    },
    {
      "cell_type": "code",
      "metadata": {
        "id": "PY9eomGAcqCL"
      },
      "source": [
        "Lettere=CorsoDiStudi(\"Lettere\",3,'M36')"
      ],
      "execution_count": null,
      "outputs": []
    },
    {
      "cell_type": "code",
      "metadata": {
        "colab": {
          "base_uri": "https://localhost:8080/",
          "height": 35
        },
        "id": "gI2g8CDEdfap",
        "outputId": "1ecb992a-e0d8-427a-a3dd-6a03cdbffcfb"
      },
      "source": [
        "Lettere.getNome()"
      ],
      "execution_count": null,
      "outputs": [
        {
          "output_type": "execute_result",
          "data": {
            "application/vnd.google.colaboratory.intrinsic+json": {
              "type": "string"
            },
            "text/plain": [
              "'Lettere'"
            ]
          },
          "metadata": {
            "tags": []
          },
          "execution_count": 59
        }
      ]
    },
    {
      "cell_type": "code",
      "metadata": {
        "colab": {
          "base_uri": "https://localhost:8080/",
          "height": 35
        },
        "id": "HGsl2I0RdiI8",
        "outputId": "d78836a1-d307-4bba-ccf9-67b49af3f2ea"
      },
      "source": [
        "Lettere.getPrefissoMatricola()"
      ],
      "execution_count": null,
      "outputs": [
        {
          "output_type": "execute_result",
          "data": {
            "application/vnd.google.colaboratory.intrinsic+json": {
              "type": "string"
            },
            "text/plain": [
              "'M36'"
            ]
          },
          "metadata": {
            "tags": []
          },
          "execution_count": 48
        }
      ]
    },
    {
      "cell_type": "code",
      "metadata": {
        "id": "XBWUaSDieCJy"
      },
      "source": [
        "Lettere.aggiungiStudente(\"Filomena\",\"Marturano\")"
      ],
      "execution_count": null,
      "outputs": []
    },
    {
      "cell_type": "code",
      "metadata": {
        "colab": {
          "base_uri": "https://localhost:8080/"
        },
        "id": "r3R2CEHHgewm",
        "outputId": "fcc6f1ab-2497-4a7d-8663-83a379c43050"
      },
      "source": [
        "Lettere.getListaStudenti()"
      ],
      "execution_count": null,
      "outputs": [
        {
          "output_type": "stream",
          "text": [
            "Filomena     Marturano     1\n",
            "Filomena     Marturano     2\n",
            "Filomena     Marturano     3\n",
            "Filomena     Marturano     4\n",
            "Filomena     Marturano     5\n",
            "Filomena     Marturano     6\n",
            "Filomena     Marturano     7\n",
            "Filomena     Marturano     8\n",
            "Filomena     Marturano     9\n",
            "Filomena     Marturano     10\n",
            "Filomena     Marturano     11\n",
            "Filomena     Marturano     12\n",
            "Filomena     Marturano     13\n",
            "Filomena     Marturano     14\n",
            "Filomena     Marturano     15\n",
            "Filomena     Marturano     16\n"
          ],
          "name": "stdout"
        }
      ]
    },
    {
      "cell_type": "markdown",
      "metadata": {
        "id": "S86HX3e8lYJ2"
      },
      "source": [
        "#Ereditarietà"
      ]
    },
    {
      "cell_type": "markdown",
      "metadata": {
        "id": "o1DvyMRblgzD"
      },
      "source": [
        "Creiamo una Classe Ereditata da Corso di Lurea"
      ]
    },
    {
      "cell_type": "code",
      "metadata": {
        "id": "I-VfLprUlazX"
      },
      "source": [
        "# la classe CorsoDiStudiMagistrale eredita dalla classe CorsoDiStudi\n",
        "class CorsoDiStudiMagistrale(CorsoDiStudi):\n",
        "\n",
        "  def impostaCreditiAggiuntivi(debitiDaRisolvere):\n",
        "    self.crediti=debitiDaRisolvere"
      ],
      "execution_count": null,
      "outputs": []
    },
    {
      "cell_type": "code",
      "metadata": {
        "id": "tcsQbw7TlfWX"
      },
      "source": [
        "# la classe CorsoDiStudiTriennale eredita dalla classe CorsoDiStudi\n",
        "class CorsoDiStudiTriennale(CorsoDiStudi):\n",
        "\n",
        "  def impostaTitoliDiStudio(titoli_val):\n",
        "    self.titoli=titoli_val"
      ],
      "execution_count": null,
      "outputs": []
    },
    {
      "cell_type": "markdown",
      "metadata": {
        "id": "9LyDFEMnmQ4h"
      },
      "source": [
        "##Usiamo l'ereditarietà multipla"
      ]
    },
    {
      "cell_type": "code",
      "metadata": {
        "id": "e0Aet0AamVPL"
      },
      "source": [
        "class Accademia(CorsoDiStudiTriennale, CorsoDiStudiMagistrale):\n",
        "  def studenti_in_comune(Lista_Studiamo): \n"
      ],
      "execution_count": null,
      "outputs": []
    },
    {
      "cell_type": "markdown",
      "metadata": {
        "id": "hpLuNK3LrVIa"
      },
      "source": [
        "Come gestire conflitti di nomi nell'ereditarietà Multipla"
      ]
    },
    {
      "cell_type": "code",
      "metadata": {
        "id": "Ep4r3eetrGBY",
        "colab": {
          "base_uri": "https://localhost:8080/"
        },
        "outputId": "45b615ea-621d-4998-944f-62894b1905dd"
      },
      "source": [
        "class studente:\n",
        "    def setNome(self,valore):\n",
        "        self.nome = valore\n",
        "    def setCognome(self,valore):\n",
        "        self.cognome = valore\n",
        "    def setMatricola(self, valore):\n",
        "        self.matricola = valore\n",
        "    def setMedia(self, valore):\n",
        "        self.media = valore\n",
        "    def addEsame(self, NomeEsame, Voto):\n",
        "        self.ListEsami[NomeEsame]=Voto\n",
        "\n",
        "    def getNome(self):\n",
        "        return self.nome\n",
        "    def getCognome(self):\n",
        "        return self.cognome\n",
        "    def getMatricola(self):\n",
        "        return self.matricola\n",
        "    def getMedia(self):\n",
        "        return self.media\n",
        "    def getEsame(self, NomeEsame):\n",
        "        return self.ListEsami.get(NomeEsame, -1)\n",
        "\n",
        "    def __init__(self, valore_nome, valore_cognome, valore_matricola):\n",
        "        self.setNome(valore_nome)\n",
        "        self.setCognome(valore_cognome)\n",
        "        self.setMatricola(valore_matricola)\n",
        "        self.ListEsami={}\n",
        "\n",
        "    def stampa(self, NomeEsame):\n",
        "        print('Nome studente =', flora.getNome())\n",
        "        print('Cognome studente =', flora.getCognome())\n",
        "        print('Matricola studente =', flora.getMatricola())\n",
        "        print('Media studente =', flora.getMedia())\n",
        "        print('Voto esame di ' + NomeEsame + ' =', flora.getEsame(NomeEsame))\n",
        "\n",
        "\n",
        "class insegnate:\n",
        "    def setNome(self, valore):\n",
        "        self.nome = valore + ' ' +valore\n",
        "\n",
        "    def getNome(self):\n",
        "        return self.nome\n",
        "\n",
        "    def __init__(self, valore_nome, valore_cognome, valore_matricola):\n",
        "        self.setNome(valore_nome)\n",
        "\n",
        "flora = studente('Flora', 'Amato', '666')\n",
        "flora.setMedia(28)\n",
        "flora.addEsame('Informatica',30)\n",
        "flora.stampa('Informatica')\n",
        "\n",
        "class persone(insegnate, studente):\n",
        "    def setNome(self, valore):\n",
        "        return(super(insegnate,self).setNome(valore))\n",
        "\n",
        "Giulio = persone('Giulio', 'Esposito', '999')\n",
        "\n",
        "print('Il nome della persona è:', Giulio.getNome())\n"
      ],
      "execution_count": null,
      "outputs": [
        {
          "output_type": "stream",
          "text": [
            "Nome studente = Flora\n",
            "Cognome studente = Amato\n",
            "Matricola studente = 666\n",
            "Media studente = 28\n",
            "Voto esame di Informatica = 30\n",
            "Il nome della persona è: Giulio\n"
          ],
          "name": "stdout"
        }
      ]
    }
  ]
}