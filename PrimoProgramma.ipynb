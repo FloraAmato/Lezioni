{
  "nbformat": 4,
  "nbformat_minor": 0,
  "metadata": {
    "colab": {
      "name": "PrimoProgramma.ipynb",
      "provenance": [],
      "collapsed_sections": [],
      "include_colab_link": true
    },
    "kernelspec": {
      "name": "python3",
      "display_name": "Python 3"
    },
    "language_info": {
      "name": "python"
    }
  },
  "cells": [
    {
      "cell_type": "markdown",
      "metadata": {
        "id": "view-in-github",
        "colab_type": "text"
      },
      "source": [
        "<a href=\"https://colab.research.google.com/github/FloraAmato/Lezioni/blob/main/PrimoProgramma.ipynb\" target=\"_parent\"><img src=\"https://colab.research.google.com/assets/colab-badge.svg\" alt=\"Open In Colab\"/></a>"
      ]
    },
    {
      "cell_type": "markdown",
      "metadata": {
        "id": "uq7PcWzBncNp"
      },
      "source": [
        "#Questo è il mio primo programma Python"
      ]
    },
    {
      "cell_type": "code",
      "metadata": {
        "colab": {
          "base_uri": "https://localhost:8080/"
        },
        "id": "5lZJ5sfKnZf5",
        "outputId": "6fd820ec-7b20-4a68-a753-11ba488574e4"
      },
      "source": [
        "a=20\n",
        "b=4\n",
        "\n",
        "c=abs(b)\n",
        "d=c*a\n",
        "\n",
        "d"
      ],
      "execution_count": null,
      "outputs": [
        {
          "output_type": "execute_result",
          "data": {
            "text/plain": [
              "80"
            ]
          },
          "metadata": {
            "tags": []
          },
          "execution_count": 4
        }
      ]
    },
    {
      "cell_type": "code",
      "metadata": {
        "id": "Yspo4wXQzXO9"
      },
      "source": [
        ""
      ],
      "execution_count": null,
      "outputs": []
    },
    {
      "cell_type": "code",
      "metadata": {
        "id": "ykl9f_9JzXQT"
      },
      "source": [
        ""
      ],
      "execution_count": null,
      "outputs": []
    },
    {
      "cell_type": "markdown",
      "metadata": {
        "id": "btbtvlPi08b4"
      },
      "source": [
        ""
      ]
    },
    {
      "cell_type": "markdown",
      "metadata": {
        "id": "RH53iJwAzNcF"
      },
      "source": [
        "Seguono le istruzioni di stampa"
      ]
    },
    {
      "cell_type": "code",
      "metadata": {
        "colab": {
          "base_uri": "https://localhost:8080/"
        },
        "id": "kGAC6pb-nqOO",
        "outputId": "36a73714-dcac-44f2-a882-828f29947fb8"
      },
      "source": [
        "#questa è la nostra prima istruzione di stampa\n",
        "print('Il valore assoluto di b=',b  , 'è pari a', c)"
      ],
      "execution_count": null,
      "outputs": [
        {
          "output_type": "stream",
          "text": [
            "Il valore assoluto di b= 4 è pari a 4\n"
          ],
          "name": "stdout"
        }
      ]
    }
  ]
}