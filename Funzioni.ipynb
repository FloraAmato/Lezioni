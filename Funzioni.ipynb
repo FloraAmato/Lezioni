{
  "nbformat": 4,
  "nbformat_minor": 0,
  "metadata": {
    "colab": {
      "name": "Funzioni.ipynb",
      "provenance": [],
      "collapsed_sections": [],
      "include_colab_link": true
    },
    "kernelspec": {
      "name": "python3",
      "display_name": "Python 3"
    },
    "language_info": {
      "name": "python"
    }
  },
  "cells": [
    {
      "cell_type": "markdown",
      "metadata": {
        "id": "view-in-github",
        "colab_type": "text"
      },
      "source": [
        "<a href=\"https://colab.research.google.com/github/FloraAmato/Lezioni/blob/main/Funzioni.ipynb\" target=\"_parent\"><img src=\"https://colab.research.google.com/assets/colab-badge.svg\" alt=\"Open In Colab\"/></a>"
      ]
    },
    {
      "cell_type": "markdown",
      "metadata": {
        "id": "_wZIFlX-DrxR"
      },
      "source": [
        "#Funzioni\n",
        "\n",
        "\n"
      ]
    },
    {
      "cell_type": "code",
      "metadata": {
        "id": "7jbQUYIcDjc1"
      },
      "source": [
        "#Prototipo di una funzione\n",
        "\n",
        "def nome_funzione(argomenti...):\n",
        "  \"docstring\"\n",
        "  corpo della funzione "
      ],
      "execution_count": null,
      "outputs": []
    },
    {
      "cell_type": "code",
      "metadata": {
        "id": "qbgrCRUuEkJx"
      },
      "source": [
        "def stampa(str):\n",
        "    '''Questa funzione semplice stampa una stringa passata in input'''\n",
        "    print(str)\n",
        "    return;"
      ],
      "execution_count": 2,
      "outputs": []
    },
    {
      "cell_type": "markdown",
      "metadata": {
        "id": "K1qM9tOaEDkw"
      },
      "source": [
        "#Help in linea\n",
        "Si può inserire una stringa all'inizio del corpo della funzione\n",
        "a differenza di un commento, la docstring si usa perchè poi\n",
        "posso invocare\n",
        "\n",
        "help(nome_funzione)\n",
        "e sarà restituito il contenuto della docstring"
      ]
    },
    {
      "cell_type": "code",
      "metadata": {
        "colab": {
          "base_uri": "https://localhost:8080/"
        },
        "id": "TK5l_8ADEyCx",
        "outputId": "94843b36-7536-4a25-fd94-f01f832118f7"
      },
      "source": [
        "help(stampa)"
      ],
      "execution_count": 3,
      "outputs": [
        {
          "output_type": "stream",
          "text": [
            "Help on function stampa in module __main__:\n",
            "\n",
            "stampa(str)\n",
            "    Questa funzione semplice stampa una stringa passata in input\n",
            "\n"
          ],
          "name": "stdout"
        }
      ]
    },
    {
      "cell_type": "markdown",
      "metadata": {
        "id": "qJLesBufE3pH"
      },
      "source": [
        "#Esempi di funzione"
      ]
    },
    {
      "cell_type": "code",
      "metadata": {
        "id": "GLCWbZEnE2vh"
      },
      "source": [
        "def fibonacci(n):\n",
        "    a,b=0,1\n",
        "    while a<n:\n",
        "        print(a, end='  ')\n",
        "        a,b=b, a+b\n",
        "        print()\n",
        "    return b"
      ],
      "execution_count": 4,
      "outputs": []
    },
    {
      "cell_type": "code",
      "metadata": {
        "colab": {
          "base_uri": "https://localhost:8080/"
        },
        "id": "5krgjEclE8sA",
        "outputId": "5af16cd2-81f1-4a5c-df12-92e64231168b"
      },
      "source": [
        "fibonacci(10)"
      ],
      "execution_count": 5,
      "outputs": [
        {
          "output_type": "stream",
          "text": [
            "0  \n",
            "1  \n",
            "1  \n",
            "2  \n",
            "3  \n",
            "5  \n",
            "8  \n"
          ],
          "name": "stdout"
        },
        {
          "output_type": "execute_result",
          "data": {
            "text/plain": [
              "21"
            ]
          },
          "metadata": {
            "tags": []
          },
          "execution_count": 5
        }
      ]
    },
    {
      "cell_type": "code",
      "metadata": {
        "colab": {
          "base_uri": "https://localhost:8080/"
        },
        "id": "ori96LsOE9eq",
        "outputId": "67566518-67e7-4fca-c025-5d3f27063196"
      },
      "source": [
        "f=fibonacci(10)"
      ],
      "execution_count": 6,
      "outputs": [
        {
          "output_type": "stream",
          "text": [
            "0  \n",
            "1  \n",
            "1  \n",
            "2  \n",
            "3  \n",
            "5  \n",
            "8  \n"
          ],
          "name": "stdout"
        }
      ]
    },
    {
      "cell_type": "code",
      "metadata": {
        "colab": {
          "base_uri": "https://localhost:8080/"
        },
        "id": "Vp9qpVmyE_GB",
        "outputId": "730796bd-d617-48f3-8e1b-265845e64152"
      },
      "source": [
        "f"
      ],
      "execution_count": 7,
      "outputs": [
        {
          "output_type": "execute_result",
          "data": {
            "text/plain": [
              "21"
            ]
          },
          "metadata": {
            "tags": []
          },
          "execution_count": 7
        }
      ]
    },
    {
      "cell_type": "markdown",
      "metadata": {
        "id": "4FBLa-JkFEP4"
      },
      "source": [
        "#Esempio di funzione Ricorsiva"
      ]
    },
    {
      "cell_type": "code",
      "metadata": {
        "id": "gwRdGTQYFDrk"
      },
      "source": [
        "def fibonacci(n):\n",
        "  '''Questa funzione calcola la funzione di Fibonacci  \n",
        "  Fib(n)=Fib(n-1)+Fib(n-2)'''\n",
        "  if n<=1:  #Caso base della chiamata ricorsiva\n",
        "    return n\n",
        "  else:\n",
        "     return fibonacci(n-1)+fibonacci(n-2)"
      ],
      "execution_count": 8,
      "outputs": []
    },
    {
      "cell_type": "markdown",
      "metadata": {
        "id": "i8RHv7OIGAcs"
      },
      "source": [
        "chiamata ricorsica\n",
        "\n",
        "fib(5) chiama fib(4) e fib (3)                           (****)\n",
        "\n",
        "\n",
        "Sto invcando fib(4) che a sua volta invoca fib(3)+fib(2)  (***)\n",
        "\n",
        "\n",
        "Sto invcando fib(3) che a sua volta invoca fib(2)+fib(1)   (**)\n",
        "\n",
        "Sto invocando fib(2) che a sua volta invoca fib(1)+fib(0)  (*)\n",
        "\n",
        "Sto invocando fib(1) --> passo base ritorna 1\n",
        "\n",
        "adesso si passa al secondo membro della somma \n",
        "(*) fib(0)-->passo base che restituisce 0\n",
        "(*) facciamo la somma fib(1)+fib(0)=1+0, otteniamo 0 e lo passiamo al return\n",
        "\n",
        "  (**) fib(2) lho ottenuto dal return precedente (*) e vale 1\n",
        "  (**) fib(1) è un passo base che restituisce 1\n",
        "  (**) facciamo la somma fib(2)+fib(1)=1+1, otteniamo 2 e lo passiamo al return\n",
        "\n",
        "  (***) facciamo la somma fib(3)+fib(2)=2+1, otteniamo 3 e lo passiamo al return\n",
        "\n",
        "   (***) facciamo la somma fib(4)+fib(3)=3+2, otteniamo 5 e lo passiamo al return\n",
        "\n",
        "   Alla fine otteniamo fib(5)=5"
      ]
    },
    {
      "cell_type": "code",
      "metadata": {
        "colab": {
          "base_uri": "https://localhost:8080/"
        },
        "id": "YNDCRbq0FYBN",
        "outputId": "6538fd2e-2a52-4e43-ea98-a9961b1ce30b"
      },
      "source": [
        "a=fibonacci(0)\n",
        "a"
      ],
      "execution_count": 9,
      "outputs": [
        {
          "output_type": "execute_result",
          "data": {
            "text/plain": [
              "0"
            ]
          },
          "metadata": {
            "tags": []
          },
          "execution_count": 9
        }
      ]
    },
    {
      "cell_type": "code",
      "metadata": {
        "colab": {
          "base_uri": "https://localhost:8080/"
        },
        "id": "FNqw_WH2Ffkp",
        "outputId": "adb97ab3-7821-4ca6-cd70-daf493d56c68"
      },
      "source": [
        "a=fibonacci(1)\n",
        "a"
      ],
      "execution_count": null,
      "outputs": [
        {
          "output_type": "execute_result",
          "data": {
            "text/plain": [
              "1"
            ]
          },
          "metadata": {
            "tags": []
          },
          "execution_count": 7
        }
      ]
    },
    {
      "cell_type": "code",
      "metadata": {
        "colab": {
          "base_uri": "https://localhost:8080/"
        },
        "id": "BRHxaA0KFYDj",
        "outputId": "136d1bb5-b131-4c29-f551-390ee7f70a0e"
      },
      "source": [
        "a=fibonacci(2)\n",
        "a"
      ],
      "execution_count": null,
      "outputs": [
        {
          "output_type": "execute_result",
          "data": {
            "text/plain": [
              "1"
            ]
          },
          "metadata": {
            "tags": []
          },
          "execution_count": 8
        }
      ]
    },
    {
      "cell_type": "code",
      "metadata": {
        "colab": {
          "base_uri": "https://localhost:8080/"
        },
        "id": "oCzFYJtAFk-K",
        "outputId": "63cd82c2-e0e1-4035-ea96-f9eb27901129"
      },
      "source": [
        "a=fibonacci(3)\n",
        "a"
      ],
      "execution_count": null,
      "outputs": [
        {
          "output_type": "execute_result",
          "data": {
            "text/plain": [
              "2"
            ]
          },
          "metadata": {
            "tags": []
          },
          "execution_count": 9
        }
      ]
    },
    {
      "cell_type": "code",
      "metadata": {
        "colab": {
          "base_uri": "https://localhost:8080/"
        },
        "id": "TXg65mWZFnhJ",
        "outputId": "c8c2e17f-b05f-4afc-9db9-653a513859d0"
      },
      "source": [
        "a=fibonacci(4)\n",
        "a"
      ],
      "execution_count": null,
      "outputs": [
        {
          "output_type": "execute_result",
          "data": {
            "text/plain": [
              "3"
            ]
          },
          "metadata": {
            "tags": []
          },
          "execution_count": 10
        }
      ]
    },
    {
      "cell_type": "code",
      "metadata": {
        "colab": {
          "base_uri": "https://localhost:8080/"
        },
        "id": "1joaV4PKFsVa",
        "outputId": "d1674cdd-9701-49c4-a26f-7aeafd0d7048"
      },
      "source": [
        "a=fibonacci(5)\n",
        "a"
      ],
      "execution_count": null,
      "outputs": [
        {
          "output_type": "execute_result",
          "data": {
            "text/plain": [
              "5"
            ]
          },
          "metadata": {
            "tags": []
          },
          "execution_count": 14
        }
      ]
    },
    {
      "cell_type": "markdown",
      "metadata": {
        "id": "uBBmk1mTFKVn"
      },
      "source": [
        "##Help in linea ottenuto grazie alla docstring messa all'inizio del corpo di una funzione"
      ]
    },
    {
      "cell_type": "code",
      "metadata": {
        "colab": {
          "base_uri": "https://localhost:8080/"
        },
        "id": "RfJsTWzsKnp7",
        "outputId": "e551b806-9ea9-4c97-865f-c35fe5fea685"
      },
      "source": [
        "#Help in linea ottenuto grazie alla docstring messa all'inizio del corpo di una funzione\n",
        "help(fibonacci)"
      ],
      "execution_count": null,
      "outputs": [
        {
          "output_type": "stream",
          "text": [
            "Help on function fibonacci in module __main__:\n",
            "\n",
            "fibonacci(n)\n",
            "    Questa funzione calcola la funzione di Fibonacci  \n",
            "    Fib(n)=Fib(n-1)+Fib(n-2)\n",
            "\n"
          ],
          "name": "stdout"
        }
      ]
    },
    {
      "cell_type": "code",
      "metadata": {
        "colab": {
          "base_uri": "https://localhost:8080/"
        },
        "id": "ZZQqcI89GyMd",
        "outputId": "afb8380a-79d9-461e-d52f-151a62c44def"
      },
      "source": [
        "def fibonacci(n):\n",
        "    #calcolo funzione di fibonacci\n",
        "    if n < 2:\n",
        "        return n\n",
        "    else:\n",
        "        return fibonacci(n-1)+fibonacci(n-2)\n",
        "        \n",
        "#Stampa tutti i valori\n",
        "for x in [1,2,3,4,5,6,7]:\n",
        "    print(fibonacci(x))"
      ],
      "execution_count": null,
      "outputs": [
        {
          "output_type": "stream",
          "text": [
            "1\n",
            "1\n",
            "2\n",
            "3\n",
            "5\n",
            "8\n",
            "13\n"
          ],
          "name": "stdout"
        }
      ]
    },
    {
      "cell_type": "code",
      "metadata": {
        "colab": {
          "base_uri": "https://localhost:8080/"
        },
        "id": "SiqP444eIK7h",
        "outputId": "dfb73ccf-6fd8-4ff7-b43b-0d31354b32e0"
      },
      "source": [
        "help(fibonacci)"
      ],
      "execution_count": null,
      "outputs": [
        {
          "output_type": "stream",
          "text": [
            "Help on function fibonacci in module __main__:\n",
            "\n",
            "fibonacci(n)\n",
            "    Questa funzione calcola la funzione di Fibonacci Fib(n)=Fib(n-1)+Fib(n-2)\n",
            "\n"
          ],
          "name": "stdout"
        }
      ]
    },
    {
      "cell_type": "markdown",
      "metadata": {
        "id": "vEuMVPdiKuUf"
      },
      "source": [
        "##Come restituire più valori con una funzione y=f(x1,...,xn) ?\n",
        "\n",
        "\n",
        "Per restituire più di un valore dobbiamo ricorrere a un dato strutturato( es: tuple...), oppure uttilizzare le sue componenti \n",
        "\n",
        "Nell'esempio che segue restituiamo due valori \n"
      ]
    },
    {
      "cell_type": "code",
      "metadata": {
        "id": "danfoeNbK_jI"
      },
      "source": [
        "def Perimetro_e_Area_Rettangolo(lato1,lato2):\n",
        "  ''' calcola area e perimetro di un rettangolo'''\n",
        "  area=lato1*lato2\n",
        "  perimetro=(lato1+lato2)*2\n",
        "  return area,perimetro"
      ],
      "execution_count": 10,
      "outputs": []
    },
    {
      "cell_type": "code",
      "metadata": {
        "id": "zQBU19DVLXWh"
      },
      "source": [
        "#esempio di invocazione della funzione\n",
        "a,p=Perimetro_e_Area_Rettangolo(10,30)"
      ],
      "execution_count": null,
      "outputs": []
    },
    {
      "cell_type": "code",
      "metadata": {
        "colab": {
          "base_uri": "https://localhost:8080/"
        },
        "id": "Bzbd15q1Lfvc",
        "outputId": "8f5c6482-7f7e-4bf5-92c8-f99cd63539d2"
      },
      "source": [
        "a\n"
      ],
      "execution_count": null,
      "outputs": [
        {
          "output_type": "execute_result",
          "data": {
            "text/plain": [
              "300"
            ]
          },
          "metadata": {
            "tags": []
          },
          "execution_count": 36
        }
      ]
    },
    {
      "cell_type": "code",
      "metadata": {
        "colab": {
          "base_uri": "https://localhost:8080/"
        },
        "id": "rw0VBPFjLhqC",
        "outputId": "63012dfd-60a4-4935-c953-b66608171798"
      },
      "source": [
        "p"
      ],
      "execution_count": null,
      "outputs": [
        {
          "output_type": "execute_result",
          "data": {
            "text/plain": [
              "80"
            ]
          },
          "metadata": {
            "tags": []
          },
          "execution_count": 37
        }
      ]
    },
    {
      "cell_type": "code",
      "metadata": {
        "colab": {
          "base_uri": "https://localhost:8080/"
        },
        "id": "D053tZCgLjrJ",
        "outputId": "4190696c-d743-4079-f2a6-2907204d248a"
      },
      "source": [
        "a=Perimetro_e_Area_Rettangolo(10,30)\n",
        "a"
      ],
      "execution_count": null,
      "outputs": [
        {
          "output_type": "execute_result",
          "data": {
            "text/plain": [
              "(300, 80)"
            ]
          },
          "metadata": {
            "tags": []
          },
          "execution_count": 39
        }
      ]
    },
    {
      "cell_type": "markdown",
      "metadata": {
        "id": "7AMxBENaL-cd"
      },
      "source": [
        "Overloading di Operatori\n",
        "Come gestire tipi di argomenti che non soddisfano le predcondizioni delle funzioni, es una funzione che deve fare la somma di interi, non si apetta di ricevere due stringhe, o due valori non interi \n",
        "\n",
        "E' possibile effettuare un controllo ESCLUSIVAMENTE A RUN TIME sui tipi di dato\n",
        "e comportarsi di conseguenza"
      ]
    },
    {
      "cell_type": "code",
      "metadata": {
        "id": "KJ94vCMjMEb7"
      },
      "source": [
        "def funzione_ambigua(a,b):\n",
        "  return a+b"
      ],
      "execution_count": null,
      "outputs": []
    },
    {
      "cell_type": "code",
      "metadata": {
        "id": "q_8I5a3zMR_W"
      },
      "source": [
        "c=funzione_ambigua(3,4)"
      ],
      "execution_count": null,
      "outputs": []
    },
    {
      "cell_type": "code",
      "metadata": {
        "id": "3yoNVo84MWmZ"
      },
      "source": [
        ""
      ],
      "execution_count": null,
      "outputs": []
    },
    {
      "cell_type": "code",
      "metadata": {
        "colab": {
          "base_uri": "https://localhost:8080/"
        },
        "id": "3mo0g9V0MVRm",
        "outputId": "8f1e45b6-c10b-4af2-c572-b459fc2ebbe5"
      },
      "source": [
        "c"
      ],
      "execution_count": null,
      "outputs": [
        {
          "output_type": "execute_result",
          "data": {
            "text/plain": [
              "7"
            ]
          },
          "metadata": {
            "tags": []
          },
          "execution_count": 43
        }
      ]
    },
    {
      "cell_type": "code",
      "metadata": {
        "id": "BaJ0MbgKMW8r"
      },
      "source": [
        "d=funzione_ambigua('ciao','bella')\n"
      ],
      "execution_count": null,
      "outputs": []
    },
    {
      "cell_type": "code",
      "metadata": {
        "colab": {
          "base_uri": "https://localhost:8080/",
          "height": 35
        },
        "id": "QYJ1y1yMMaS4",
        "outputId": "38a0fc6e-af9c-4614-d992-edfd107d5a0a"
      },
      "source": [
        "d"
      ],
      "execution_count": null,
      "outputs": [
        {
          "output_type": "execute_result",
          "data": {
            "application/vnd.google.colaboratory.intrinsic+json": {
              "type": "string"
            },
            "text/plain": [
              "'ciaobella'"
            ]
          },
          "metadata": {
            "tags": []
          },
          "execution_count": 45
        }
      ]
    },
    {
      "cell_type": "code",
      "metadata": {
        "id": "MwbJgaTZMewd"
      },
      "source": [
        "d=funzione_ambigua(['ciao','bella'], ['bella','ciao'])"
      ],
      "execution_count": null,
      "outputs": []
    },
    {
      "cell_type": "code",
      "metadata": {
        "colab": {
          "base_uri": "https://localhost:8080/"
        },
        "id": "MYxG5xGqMlji",
        "outputId": "3fbc4823-98e0-4e46-b655-031c3c23164c"
      },
      "source": [
        "d"
      ],
      "execution_count": null,
      "outputs": [
        {
          "output_type": "execute_result",
          "data": {
            "text/plain": [
              "['ciao', 'bella', 'bella', 'ciao']"
            ]
          },
          "metadata": {
            "tags": []
          },
          "execution_count": 47
        }
      ]
    },
    {
      "cell_type": "code",
      "metadata": {
        "colab": {
          "base_uri": "https://localhost:8080/"
        },
        "id": "WBqxedjMM4Ri",
        "outputId": "c4d5aafc-1e05-4bc0-abd1-f327f99f0237"
      },
      "source": [
        "type"
      ],
      "execution_count": null,
      "outputs": [
        {
          "output_type": "execute_result",
          "data": {
            "text/plain": [
              "type"
            ]
          },
          "metadata": {
            "tags": []
          },
          "execution_count": 48
        }
      ]
    },
    {
      "cell_type": "code",
      "metadata": {
        "id": "W7GR7wJHM-Ib"
      },
      "source": [
        "def funzione_ambigua(a,b):\n",
        "  if type(a) is int \n",
        "  return a+b"
      ],
      "execution_count": null,
      "outputs": []
    },
    {
      "cell_type": "code",
      "metadata": {
        "colab": {
          "base_uri": "https://localhost:8080/"
        },
        "id": "r_Bmkc92NExD",
        "outputId": "2492cf29-50ca-40ee-b0f8-b4b55c8a3d91"
      },
      "source": [
        "type(d)"
      ],
      "execution_count": null,
      "outputs": [
        {
          "output_type": "execute_result",
          "data": {
            "text/plain": [
              "list"
            ]
          },
          "metadata": {
            "tags": []
          },
          "execution_count": 51
        }
      ]
    },
    {
      "cell_type": "code",
      "metadata": {
        "colab": {
          "base_uri": "https://localhost:8080/"
        },
        "id": "RpTNugAkNX6L",
        "outputId": "89dd1e61-30cd-4dfc-e7b6-bcde7c34f3c8"
      },
      "source": [
        "type(d) is list"
      ],
      "execution_count": null,
      "outputs": [
        {
          "output_type": "execute_result",
          "data": {
            "text/plain": [
              "True"
            ]
          },
          "metadata": {
            "tags": []
          },
          "execution_count": 53
        }
      ]
    },
    {
      "cell_type": "code",
      "metadata": {
        "colab": {
          "base_uri": "https://localhost:8080/"
        },
        "id": "3_vGlJ5nNeyy",
        "outputId": "b62de56d-eb88-4d13-c40c-3dc99e285bdb"
      },
      "source": [
        "isinstance(d,int)"
      ],
      "execution_count": null,
      "outputs": [
        {
          "output_type": "execute_result",
          "data": {
            "text/plain": [
              "False"
            ]
          },
          "metadata": {
            "tags": []
          },
          "execution_count": 54
        }
      ]
    },
    {
      "cell_type": "code",
      "metadata": {
        "colab": {
          "base_uri": "https://localhost:8080/"
        },
        "id": "vkwSt--6NjUQ",
        "outputId": "6e134fe1-c59c-4476-9902-9b9ce1f408b5"
      },
      "source": [
        "isinstance(d,list)"
      ],
      "execution_count": null,
      "outputs": [
        {
          "output_type": "execute_result",
          "data": {
            "text/plain": [
              "True"
            ]
          },
          "metadata": {
            "tags": []
          },
          "execution_count": 55
        }
      ]
    },
    {
      "cell_type": "markdown",
      "metadata": {
        "id": "0MIFXgb3OwnI"
      },
      "source": [
        "Overloading di Operatori\n",
        "Come gestire tipi di argomenti che non soddisfano le predcondizioni delle funzioni, es una funzione che deve fare la somma di interi, non si apetta di ricevere due stringhe, o due valori non interi \n",
        "\n",
        "E' possibile effettuare un controllo ESCLUSIVAMENTE A RUN TIME sui tipi di dato\n",
        "e comportarsi di conseguenza"
      ]
    },
    {
      "cell_type": "code",
      "metadata": {
        "id": "r00BZUZrNnXS"
      },
      "source": [
        "def funzione_poco_ambigua(a,b):\n",
        "  if type(a)==int and  type(b)==int:\n",
        "    return a+b\n",
        "  elif type(a)!=type(b):\n",
        "    return(\"Leggi il manuale della funzione perchè non accetta oggetti diversi!\") "
      ],
      "execution_count": null,
      "outputs": []
    },
    {
      "cell_type": "code",
      "metadata": {
        "colab": {
          "base_uri": "https://localhost:8080/",
          "height": 35
        },
        "id": "91-KVkL3OJqq",
        "outputId": "af7c2138-5cd6-47de-d81e-f15154a6bdf4"
      },
      "source": [
        "funzione_poco_ambigua(232,12312312.4)"
      ],
      "execution_count": null,
      "outputs": [
        {
          "output_type": "execute_result",
          "data": {
            "application/vnd.google.colaboratory.intrinsic+json": {
              "type": "string"
            },
            "text/plain": [
              "'Leggi il manuale della funzione perchè non accetta oggetti diversi!'"
            ]
          },
          "metadata": {
            "tags": []
          },
          "execution_count": 61
        }
      ]
    },
    {
      "cell_type": "code",
      "metadata": {
        "colab": {
          "base_uri": "https://localhost:8080/"
        },
        "id": "nGyHEENtOPB-",
        "outputId": "afaa1175-5c0d-4365-aa55-ab8a9cad634a"
      },
      "source": [
        "funzione_poco_ambigua(232,12312312)"
      ],
      "execution_count": null,
      "outputs": [
        {
          "output_type": "execute_result",
          "data": {
            "text/plain": [
              "12312544"
            ]
          },
          "metadata": {
            "tags": []
          },
          "execution_count": 62
        }
      ]
    },
    {
      "cell_type": "markdown",
      "metadata": {
        "id": "1iwFOlgFSa3P"
      },
      "source": [
        "#Passaggio dei parametri delle funzioni"
      ]
    },
    {
      "cell_type": "markdown",
      "metadata": {
        "id": "nt06P7l6SuZ2"
      },
      "source": [
        "quando definiamo una funzione , definiamo i suoi PARAMETRI FORMALI\n",
        "def funz (Par Formale 1, Par Formale 2, ... Par Formale n)\n",
        "\n",
        "All'atto della invocazione della funzione si asocierà (BINDING) il parametro formale a quello attuale\n",
        "\n",
        "in due modalità\n",
        "1) POSIZIONALE: l'associazione avviene collegando il paramtro formale con quello attuale che si trova nello stesso ordine \n",
        "- funz (ParAttuale1, ParAttuale2, ... ParAttualen)\n",
        "2) NOMINALE: l'associazione avviene esplicitando i nomi dei aprametri formali e quelli dei parametri attuali \n",
        "- ParFormale1=Variabile1\n",
        "funz (ParFormale1=ParAttuale1, ParFormalen=ParAttualen, ... ParFormale2=ParAttuale2)\n",
        "Nel passaggio nominale non è necessario rispettare l'ordine."
      ]
    },
    {
      "cell_type": "code",
      "metadata": {
        "id": "VwTYWX44St9R"
      },
      "source": [
        ""
      ],
      "execution_count": null,
      "outputs": []
    },
    {
      "cell_type": "markdown",
      "metadata": {
        "id": "cuzLd82APaBk"
      },
      "source": [
        "#Funzioni con Parametri facoltativi o opzionali o di default"
      ]
    },
    {
      "cell_type": "markdown",
      "metadata": {
        "id": "XIgjwC7qQs6P"
      },
      "source": [
        "sto definendo una funzione che può essere invocata senza utilizzare tutti i parametri attuali"
      ]
    },
    {
      "cell_type": "code",
      "metadata": {
        "id": "VQR1JAS9PlAs"
      },
      "source": [
        "#nell'invocare Calcolo_aereodinamicità sono costretta a inserire i parametri attuali di \n",
        "#area e  lunghezza in quanto non hanno un valore di default\n",
        "\n",
        "# invece\n",
        "\n",
        "#non sono costretta ad inserire i parametri attuali per spessore\n",
        "#che SE NON è SPECIFICATO assumerà il valore di 15\n",
        "#altrimenti assume il valore del parametro attuale\n",
        "\n",
        "#non sono costretta ad inserire i parametri attuali per materiale_fusoliera\n",
        "#che SE NON è SPECIFICATO assumerà il valore di Acciaio\n",
        "#altrimenti assume il valore del parametro attuale\n",
        "\n",
        "def Calcolo_aereodinamicità(area, lunghezza, spessore=15, materiale_fusoliera='Acciaio'):\n",
        "\n",
        "  if materiale_fusoliera==\"Ferro\":\n",
        "    coefficiente_aereodimanicità=(area* lunghezza/spessore)/2\n",
        "  elif materiale_fusoliera==\"Legno\":\n",
        "    coefficiente_aereodimanicità=(area* lunghezza/spessore)/3\n",
        "  elif materiale_fusoliera==\"Acciaio\":\n",
        "    coefficiente_aereodimanicità=(area* lunghezza/spessore)/4 \n",
        "  else:\n",
        "    coefficiente_aereodimanicità=(area* lunghezza/spessore)/100 \n",
        "  print(\"Con il materiale \", materiale_fusoliera , \"otteniamo un valore di \",    coefficiente_aereodimanicità )\n",
        "  return coefficiente_aereodimanicità"
      ],
      "execution_count": null,
      "outputs": []
    },
    {
      "cell_type": "code",
      "metadata": {
        "colab": {
          "base_uri": "https://localhost:8080/"
        },
        "id": "Dwy9ph2NRlJg",
        "outputId": "3ade89b9-1815-485b-a0b9-d30861a5cbb9"
      },
      "source": [
        "a=25\n",
        "#invoco la funzione co i soli parametri attuali di a  e 33, ovvero area=a, e lunghezza=33\n",
        "#sto omettendo spessore=15, materiale_fusoliera='Acciaio'\n",
        "#i parametri attuali sono passati in maniera posizionale, il primo parametro formale sarà collegato con il primo parametro attuale, il secondo parametro formale sarà collegato con il primo parametro attuale, eccc.\n",
        "\n",
        "\n",
        "risCoeff=Calcolo_aereodinamicità(a, 33)"
      ],
      "execution_count": null,
      "outputs": [
        {
          "output_type": "stream",
          "text": [
            "Con il materiale  Acciaio otteniamo un valore di  13.75\n"
          ],
          "name": "stdout"
        }
      ]
    },
    {
      "cell_type": "code",
      "metadata": {
        "colab": {
          "base_uri": "https://localhost:8080/"
        },
        "id": "sp4VuAVzSPJk",
        "outputId": "a42dbb62-0939-425f-ca09-f9b2560c04ab"
      },
      "source": [
        "risCoeff=Calcolo_aereodinamicità(area=a, lunghezza=33)"
      ],
      "execution_count": null,
      "outputs": [
        {
          "output_type": "stream",
          "text": [
            "Con il materiale  Acciaio otteniamo un valore di  13.75\n"
          ],
          "name": "stdout"
        }
      ]
    },
    {
      "cell_type": "code",
      "metadata": {
        "colab": {
          "base_uri": "https://localhost:8080/"
        },
        "id": "dPApL4S2Sgja",
        "outputId": "f5d851f2-88a2-452f-e5be-e67d6df00ede"
      },
      "source": [
        "c=Calcolo_aereodinamicità(10, 34, materiale_fusoliera='Acciaio')"
      ],
      "execution_count": null,
      "outputs": [
        {
          "output_type": "stream",
          "text": [
            "Con il materiale  Acciaio otteniamo un valore di  5.666666666666667\n"
          ],
          "name": "stdout"
        }
      ]
    },
    {
      "cell_type": "code",
      "metadata": {
        "colab": {
          "base_uri": "https://localhost:8080/"
        },
        "id": "RsqfJ9dFTxUb",
        "outputId": "ca03554b-1c23-46a6-a909-c8fad7404f30"
      },
      "source": [
        "#inserito lo spessore, ma omesso e quindi preso il valore di default per il materiale_fusoliera\n",
        "c=Calcolo_aereodinamicità(10, 34, 1000)"
      ],
      "execution_count": null,
      "outputs": [
        {
          "output_type": "stream",
          "text": [
            "Con il materiale  Acciaio otteniamo un valore di  0.085\n"
          ],
          "name": "stdout"
        }
      ]
    },
    {
      "cell_type": "code",
      "metadata": {
        "colab": {
          "base_uri": "https://localhost:8080/",
          "height": 132
        },
        "id": "wbNjOiRDUHD4",
        "outputId": "fd2d12ea-fc45-459c-df10-895bcd87e0a4"
      },
      "source": [
        "#non possiamo lasciare \"posti vuoti\" se omettiamo il parametro di posto n (prendendo il suo valore di default), allora i parametri da n+1 in poi devono essere passati in modo nominale\n",
        "c=Calcolo_aereodinamicità(10, 34, ,'Tungsteno') #errore!"
      ],
      "execution_count": null,
      "outputs": [
        {
          "output_type": "error",
          "ename": "SyntaxError",
          "evalue": "ignored",
          "traceback": [
            "\u001b[0;36m  File \u001b[0;32m\"<ipython-input-74-0a1645af39dc>\"\u001b[0;36m, line \u001b[0;32m2\u001b[0m\n\u001b[0;31m    c=Calcolo_aereodinamicità(10, 34, ,'Tungsteno')\u001b[0m\n\u001b[0m                                      ^\u001b[0m\n\u001b[0;31mSyntaxError\u001b[0m\u001b[0;31m:\u001b[0m invalid syntax\n"
          ]
        }
      ]
    },
    {
      "cell_type": "code",
      "metadata": {
        "colab": {
          "base_uri": "https://localhost:8080/"
        },
        "id": "VZT28qfGULfC",
        "outputId": "eb5280db-2d49-4695-e2f5-6444d2b4f70e"
      },
      "source": [
        "#si passa invece in modo nominale\n",
        "c=Calcolo_aereodinamicità(10, 34, materiale_fusoliera='Tungsteno')"
      ],
      "execution_count": null,
      "outputs": [
        {
          "output_type": "stream",
          "text": [
            "Con il materiale  Tungsteno otteniamo un valore di  0.22666666666666668\n"
          ],
          "name": "stdout"
        }
      ]
    },
    {
      "cell_type": "markdown",
      "metadata": {
        "id": "gG-zrkac9t_d"
      },
      "source": [
        ""
      ]
    },
    {
      "cell_type": "markdown",
      "metadata": {
        "id": "bCYhLY9RUlym"
      },
      "source": [
        "#Passaggio dei parametri\n",
        "\n",
        "Consideriamo la  variabile totale\n",
        "è dichiarata nel programma principale\n",
        "e poi è dchiarata nella funzione somma"
      ]
    },
    {
      "cell_type": "code",
      "metadata": {
        "id": "AcBs4cjP9u4G"
      },
      "source": [
        "totale=0\n",
        "\n",
        "def somma(arg1, arg2):\n",
        "  totale=arg1+arg2\n",
        "  print(\"il totale è \", totale)\n",
        "  return totale   #mi aspetto 30!\n",
        "\n",
        "somma(10,20) \n",
        "print(\"il totale è \", totale) #mi aspetto 0!"
      ],
      "execution_count": null,
      "outputs": []
    },
    {
      "cell_type": "markdown",
      "metadata": {
        "id": "siV6IFR6924g"
      },
      "source": [
        "Dichiariamo invece adesso totale come global\n",
        "\n",
        "SI RICORDA CHE GLOBAL E' FORTEMENTE SCONSIGLIATO TRANNE NEI CASI IN CUI NON E' ESSENZIALE"
      ]
    },
    {
      "cell_type": "code",
      "metadata": {
        "id": "tNp8ZAj_93hm"
      },
      "source": [
        "totale=0\n",
        "\n",
        "def somma(arg1, arg2):\n",
        "  global totale #Vuole dire usa la variabile esterna, non dichiararne una all'interno!\n",
        "  totale=arg1+arg2\n",
        "  print(\"il totale è \", totale)\n",
        "  return totale   #mi aspetto 30!\n",
        "\n",
        "somma(10,20) \n",
        "print(\"il totale è \", totale) #mi aspetto 30!"
      ],
      "execution_count": null,
      "outputs": []
    },
    {
      "cell_type": "markdown",
      "metadata": {
        "id": "FZO8mC4e-bTo"
      },
      "source": [
        "##Altri Esempi di Visibilità delle Variabili"
      ]
    },
    {
      "cell_type": "code",
      "metadata": {
        "id": "2HmEAsBdUqHl"
      },
      "source": [
        "def CambioTestaLista(Lis):\n",
        "  Lis[0]=Lis[0]*2\n",
        "  print(\"valore della lista interno alla funzione\", Lis)\n"
      ],
      "execution_count": null,
      "outputs": []
    },
    {
      "cell_type": "code",
      "metadata": {
        "colab": {
          "base_uri": "https://localhost:8080/"
        },
        "id": "0gbQR5ixUz08",
        "outputId": "ebb06691-7832-4c09-fb2c-493470d066d7"
      },
      "source": [
        "LATTUALE=[123123,34534,123,21312312312,0.434343,0.34242123]\n",
        "LATTUALE"
      ],
      "execution_count": null,
      "outputs": [
        {
          "output_type": "execute_result",
          "data": {
            "text/plain": [
              "[123123, 34534, 123, 21312312312, 0.434343, 0.34242123]"
            ]
          },
          "metadata": {
            "tags": []
          },
          "execution_count": 94
        }
      ]
    },
    {
      "cell_type": "code",
      "metadata": {
        "colab": {
          "base_uri": "https://localhost:8080/"
        },
        "id": "y-SwsUOgU---",
        "outputId": "070147eb-6d06-4940-9569-cf4a5311f2c3"
      },
      "source": [
        "CambioTestaLista(LATTUALE)"
      ],
      "execution_count": null,
      "outputs": [
        {
          "output_type": "stream",
          "text": [
            "valore della lista interno alla funzione [246246, 34534, 123, 21312312312, 0.434343, 0.34242123]\n"
          ],
          "name": "stdout"
        }
      ]
    },
    {
      "cell_type": "code",
      "metadata": {
        "colab": {
          "base_uri": "https://localhost:8080/"
        },
        "id": "E2aWHwLpVEv8",
        "outputId": "60bbb71a-ee3f-45b6-a715-ef51dccede81"
      },
      "source": [
        "LATTUALE #la modifica sull'elemento in testa si ripercute anche fuori dalla funzione"
      ],
      "execution_count": null,
      "outputs": [
        {
          "output_type": "execute_result",
          "data": {
            "text/plain": [
              "[246246, 34534, 123, 21312312312, 0.434343, 0.34242123]"
            ]
          },
          "metadata": {
            "tags": []
          },
          "execution_count": 96
        }
      ]
    },
    {
      "cell_type": "markdown",
      "metadata": {
        "id": "aPlImlWQW1EW"
      },
      "source": [
        "Cambiamo l'allocazione di tutta la lista"
      ]
    },
    {
      "cell_type": "code",
      "metadata": {
        "id": "IOQMfrVMWgoJ"
      },
      "source": [
        "def CambioConnotatiLista(Lis):\n",
        "  #Sto allocando una nuova lista, sto cambiando il riferimento alla lista di partenza passata come parametro in input\n",
        "  Lis=[23423,23423,234]\n",
        "  print(\"valore della lista interno alla funzione\", Lis)"
      ],
      "execution_count": null,
      "outputs": []
    },
    {
      "cell_type": "code",
      "metadata": {
        "colab": {
          "base_uri": "https://localhost:8080/"
        },
        "id": "umvlTTinWFIw",
        "outputId": "5d6762e2-cfa1-4f21-9ee0-a0a12e6a8ada"
      },
      "source": [
        "#riallochiamo la lista, ci assegnamo una nuova lista\n",
        "CambioConnotatiLista(LATTUALE)"
      ],
      "execution_count": null,
      "outputs": [
        {
          "output_type": "stream",
          "text": [
            "valore della lista interno alla funzione [23423, 23423, 234]\n"
          ],
          "name": "stdout"
        }
      ]
    },
    {
      "cell_type": "code",
      "metadata": {
        "colab": {
          "base_uri": "https://localhost:8080/"
        },
        "id": "ZcBPvGxzWP2-",
        "outputId": "67573688-5efb-4936-9275-04a4f6efa629"
      },
      "source": [
        "LATTUALE #la riallocazione  si ripercute anche fuori dalla funzione"
      ],
      "execution_count": null,
      "outputs": [
        {
          "output_type": "execute_result",
          "data": {
            "text/plain": [
              "[984984, 34534, 123, 21312312312, 0.434343, 0.34242123]"
            ]
          },
          "metadata": {
            "tags": []
          },
          "execution_count": 113
        }
      ]
    },
    {
      "cell_type": "markdown",
      "metadata": {
        "id": "yIvkTfCkXOlG"
      },
      "source": [
        "Per fare in modo che la RIALLOCAZIONE si ripercuota all'esterno possiamo utilizzare il return "
      ]
    },
    {
      "cell_type": "code",
      "metadata": {
        "id": "iAV3lNv2XVcT"
      },
      "source": [
        "def CambioConnotatiListaXEsterno(Lis):\n",
        "  Lis=[23423,23423,234]\n",
        "  print(\"valore della lista interno alla funzione\", Lis)\n",
        "  return Lis"
      ],
      "execution_count": null,
      "outputs": []
    },
    {
      "cell_type": "code",
      "metadata": {
        "colab": {
          "base_uri": "https://localhost:8080/"
        },
        "id": "beeYyZ6bXb9i",
        "outputId": "24340f35-479d-45cd-d701-7d24a99a0868"
      },
      "source": [
        "LATTUALE=[123123,34534,123,21312312312,0.434343,0.34242123]\n",
        "LATTUALE"
      ],
      "execution_count": null,
      "outputs": [
        {
          "output_type": "execute_result",
          "data": {
            "text/plain": [
              "[123123, 34534, 123, 21312312312, 0.434343, 0.34242123]"
            ]
          },
          "metadata": {
            "tags": []
          },
          "execution_count": 116
        }
      ]
    },
    {
      "cell_type": "code",
      "metadata": {
        "colab": {
          "base_uri": "https://localhost:8080/"
        },
        "id": "mWp9OU-KXjXA",
        "outputId": "fe0fe86b-7bf5-4eab-ab34-66269b53b793"
      },
      "source": [
        " LATTUALE=CambioConnotatiListaXEsterno(LATTUALE)"
      ],
      "execution_count": null,
      "outputs": [
        {
          "output_type": "stream",
          "text": [
            "valore della lista interno alla funzione [23423, 23423, 234]\n"
          ],
          "name": "stdout"
        }
      ]
    },
    {
      "cell_type": "code",
      "metadata": {
        "colab": {
          "base_uri": "https://localhost:8080/"
        },
        "id": "E4HsRNWhXmY0",
        "outputId": "27ef10c0-8b53-45c4-bf97-5cecfc8632fa"
      },
      "source": [
        "LATTUALE"
      ],
      "execution_count": null,
      "outputs": [
        {
          "output_type": "execute_result",
          "data": {
            "text/plain": [
              "[23423, 23423, 234]"
            ]
          },
          "metadata": {
            "tags": []
          },
          "execution_count": 118
        }
      ]
    },
    {
      "cell_type": "markdown",
      "metadata": {
        "id": "cfyCPAaJXoHh"
      },
      "source": [
        "Un altro modo per riallocare uan struttura dati all'interno della funzione facendo in modo che la riallocazione sia visibile anche all'esterno è ricorrere a GLOBAL per modificare l'ambito di variabilità dell'oggetto"
      ]
    },
    {
      "cell_type": "code",
      "metadata": {
        "id": "7D4NwCXMX0Zd"
      },
      "source": [
        "def CambioConnotatiListaGlobal(Lis):\n",
        "  global GlobalATTUALE #struttura dati dichiarata all'interno della funzione ma Global, quindi visibile anche all'esterno\n",
        "  GlobalATTUALE=[]\n",
        "  Lis=[23423,23423,234] #riallochialo Lis, all'interno della funzione\n",
        "                        #riallocazione su Lis che si perderà fuori dello scope della funzione\n",
        "  GlobalATTUALE=Lis     #invece assegnando il nuovo valore a GlobalATTUALE\n",
        "                        #in virtù del fatto che è Global, la sua nuova allocazione effettuata all0interno della funzione\n",
        "                        #si ripercuoterà anche all'esterno della funzione\n",
        "  print(\"valore della lista interno alla funzione\", Lis)\n"
      ],
      "execution_count": null,
      "outputs": []
    },
    {
      "cell_type": "code",
      "metadata": {
        "colab": {
          "base_uri": "https://localhost:8080/"
        },
        "id": "GoBNspDBYJab",
        "outputId": "fb78569c-5eb5-47c6-a0d1-60bf9959baaf"
      },
      "source": [
        "LATTUALE=[123123,34534,123,21312312312,0.434343,0.34242123]\n",
        "LATTUALE"
      ],
      "execution_count": null,
      "outputs": [
        {
          "output_type": "execute_result",
          "data": {
            "text/plain": [
              "[123123, 34534, 123, 21312312312, 0.434343, 0.34242123]"
            ]
          },
          "metadata": {
            "tags": []
          },
          "execution_count": 164
        }
      ]
    },
    {
      "cell_type": "code",
      "metadata": {
        "colab": {
          "base_uri": "https://localhost:8080/"
        },
        "id": "Osdl-DN4YRFg",
        "outputId": "cbdec609-ecf3-46c5-f3c7-981880ffdf26"
      },
      "source": [
        "CambioConnotatiListaGlobal(LATTUALE)"
      ],
      "execution_count": null,
      "outputs": [
        {
          "output_type": "stream",
          "text": [
            "valore della lista interno alla funzione [23423, 23423, 234]\n"
          ],
          "name": "stdout"
        }
      ]
    },
    {
      "cell_type": "code",
      "metadata": {
        "colab": {
          "base_uri": "https://localhost:8080/"
        },
        "id": "1SAOotXfYTkY",
        "outputId": "b86cb153-c98b-4aac-af12-f3d03b0d4f62"
      },
      "source": [
        "LATTUALE"
      ],
      "execution_count": null,
      "outputs": [
        {
          "output_type": "execute_result",
          "data": {
            "text/plain": [
              "[123123, 34534, 123, 21312312312, 0.434343, 0.34242123]"
            ]
          },
          "metadata": {
            "tags": []
          },
          "execution_count": 166
        }
      ]
    },
    {
      "cell_type": "code",
      "metadata": {
        "colab": {
          "base_uri": "https://localhost:8080/"
        },
        "id": "AR-oID3OYUoZ",
        "outputId": "c6f0f506-6a9e-4f33-d14d-df9bdab4b55f"
      },
      "source": [
        "GlobalATTUALE"
      ],
      "execution_count": null,
      "outputs": [
        {
          "output_type": "execute_result",
          "data": {
            "text/plain": [
              "[23423, 23423, 234]"
            ]
          },
          "metadata": {
            "tags": []
          },
          "execution_count": 167
        }
      ]
    },
    {
      "cell_type": "markdown",
      "metadata": {
        "id": "Dm5K78tTY7AD"
      },
      "source": [
        "L'operatore Global può anche essere inserito al di fuori della funzione"
      ]
    },
    {
      "cell_type": "code",
      "metadata": {
        "id": "gG8o_sbTZBAC"
      },
      "source": [
        "global GlobalATTUALE #Se invece GlobalATTUALE è dichiarata fuori dallo scope della funzione\n",
        "                     #le riallocazioni effettuate su di essa all'interno della funzione\n",
        "                     #non avranno effetto al termine dell'esecuzione della funzione\n",
        "GlobalATTUALE=[]\n",
        "def CambioConnotatiListaNOGlobal(Lis):\n",
        "  Lis=[23423,23423,234]\n",
        "  GlobalATTUALE=Lis\n",
        "  print(\"valore della lista interno alla funzione\", Lis)"
      ],
      "execution_count": null,
      "outputs": []
    },
    {
      "cell_type": "code",
      "metadata": {
        "colab": {
          "base_uri": "https://localhost:8080/"
        },
        "id": "Mv4ck6PvZPf8",
        "outputId": "83ca89a2-f469-45d0-b02d-74fd03d53c05"
      },
      "source": [
        "LATTUALE=[123123,34534,123,21312312312,0.434343,0.34242123]\n",
        "LATTUALE"
      ],
      "execution_count": null,
      "outputs": [
        {
          "output_type": "execute_result",
          "data": {
            "text/plain": [
              "[123123, 34534, 123, 21312312312, 0.434343, 0.34242123]"
            ]
          },
          "metadata": {
            "tags": []
          },
          "execution_count": 159
        }
      ]
    },
    {
      "cell_type": "code",
      "metadata": {
        "colab": {
          "base_uri": "https://localhost:8080/"
        },
        "id": "RepOOBcAZRd0",
        "outputId": "23c2bba1-9fff-4250-b05e-3213a162524a"
      },
      "source": [
        "CambioConnotatiListaNOGlobal(LATTUALE)"
      ],
      "execution_count": null,
      "outputs": [
        {
          "output_type": "stream",
          "text": [
            "valore della lista interno alla funzione [23423, 23423, 234]\n"
          ],
          "name": "stdout"
        }
      ]
    },
    {
      "cell_type": "code",
      "metadata": {
        "colab": {
          "base_uri": "https://localhost:8080/"
        },
        "id": "0634pn8-ZU18",
        "outputId": "a7c4ffa1-7e8b-42dd-d542-1e693f372d54"
      },
      "source": [
        "LATTUALE #LATTUALE non è stata cambiata fuori dalla funzione"
      ],
      "execution_count": null,
      "outputs": [
        {
          "output_type": "execute_result",
          "data": {
            "text/plain": [
              "[123123, 34534, 123, 21312312312, 0.434343, 0.34242123]"
            ]
          },
          "metadata": {
            "tags": []
          },
          "execution_count": 161
        }
      ]
    },
    {
      "cell_type": "code",
      "metadata": {
        "colab": {
          "base_uri": "https://localhost:8080/"
        },
        "id": "RDr9LOHIZbYS",
        "outputId": "ed8ae2b1-20a0-4425-a0cc-f7b5302e1b45"
      },
      "source": [
        "GlobalATTUALE"
      ],
      "execution_count": null,
      "outputs": [
        {
          "output_type": "execute_result",
          "data": {
            "text/plain": [
              "[]"
            ]
          },
          "metadata": {
            "tags": []
          },
          "execution_count": 162
        }
      ]
    },
    {
      "cell_type": "markdown",
      "metadata": {
        "id": "q946u3rZeiEm"
      },
      "source": [
        "#Funzioni con Argomenti Variabili"
      ]
    },
    {
      "cell_type": "markdown",
      "metadata": {
        "id": "Mk47_Fu7elie"
      },
      "source": [
        "Funzioni che possono avere una tupla come parametro formale, in modo tale da permettere, in fase di evocazione della funzione di utilizzare un nuovero arbitrario, anche nullo, di paramtri attuali"
      ]
    },
    {
      "cell_type": "code",
      "metadata": {
        "id": "ZG3puUaKexM5"
      },
      "source": [
        "def FunzioneSommaListaVariabile(*lista_addendi):\n",
        "  somma=0\n",
        "  for x in lista_addendi:\n",
        "    somma+=x\n",
        "  return somma"
      ],
      "execution_count": null,
      "outputs": []
    },
    {
      "cell_type": "code",
      "metadata": {
        "id": "pbxW2crufQCF"
      },
      "source": [
        ""
      ],
      "execution_count": null,
      "outputs": []
    },
    {
      "cell_type": "code",
      "metadata": {
        "id": "Jwu-kVWhfF6t"
      },
      "source": [
        "#invochiamo la funzione su 5 parametri\n",
        "risultato=FunzioneSommaListaVariabile(1,2,3,4,5)"
      ],
      "execution_count": null,
      "outputs": []
    },
    {
      "cell_type": "code",
      "metadata": {
        "colab": {
          "base_uri": "https://localhost:8080/"
        },
        "id": "QnHotlAIfN3Z",
        "outputId": "a3c67f79-131f-41e6-b7bb-bac170cd5325"
      },
      "source": [
        "risultato"
      ],
      "execution_count": null,
      "outputs": [
        {
          "output_type": "execute_result",
          "data": {
            "text/plain": [
              "15"
            ]
          },
          "metadata": {
            "tags": []
          },
          "execution_count": 170
        }
      ]
    },
    {
      "cell_type": "code",
      "metadata": {
        "id": "NBMjMDa1fQhI"
      },
      "source": [
        "def FunzioneSomma_DUE_OBBLIGATORI_PIU_ListaVariabile(a,b,*lista_addendi):\n",
        "  somma=a+b\n",
        "  for x in lista_addendi:\n",
        "    somma+=x\n",
        "  return somma"
      ],
      "execution_count": null,
      "outputs": []
    },
    {
      "cell_type": "code",
      "metadata": {
        "id": "QxcgtBinfc9F"
      },
      "source": [
        "#invochiamo la funzione su 5 parametri OLTRE I primi due che sono obbligatori, in totale in questo caso la funzione avrà 7 parametri \n",
        "risultato2=FunzioneSomma_DUE_OBBLIGATORI_PIU_ListaVariabile(-1,-2,10,20,30,40,50)"
      ],
      "execution_count": null,
      "outputs": []
    },
    {
      "cell_type": "code",
      "metadata": {
        "id": "KHfdjnd0fukO",
        "colab": {
          "base_uri": "https://localhost:8080/"
        },
        "outputId": "b83d0568-4335-4f5e-ed6a-bd9c9d2fb82c"
      },
      "source": [
        "risultato2"
      ],
      "execution_count": null,
      "outputs": [
        {
          "output_type": "execute_result",
          "data": {
            "text/plain": [
              "147"
            ]
          },
          "metadata": {
            "tags": []
          },
          "execution_count": 175
        }
      ]
    },
    {
      "cell_type": "markdown",
      "metadata": {
        "id": "Zfb2Nf-0iV2p"
      },
      "source": [
        "#Funzioni Lamda\n",
        "non sono inline come in C , nel senso che non servono per motivi prestazionali, ma sono definite su una sola riga"
      ]
    },
    {
      "cell_type": "code",
      "metadata": {
        "id": "JoJd7vkTjKNN"
      },
      "source": [
        "#sto definendo la funzione Picus\n",
        "#che prende in input gli argomenti arg1, arg2, arg3 \n",
        "# e restituisce in output il valore arg1+arg2+arg3\n",
        "# assegnandolo alla variabile output Picus\n",
        "Picus= lambda arg1, arg2, arg3: arg1+arg2+arg3"
      ],
      "execution_count": null,
      "outputs": []
    },
    {
      "cell_type": "code",
      "metadata": {
        "colab": {
          "base_uri": "https://localhost:8080/"
        },
        "id": "FYsQDLh8jYuc",
        "outputId": "e305d174-2a84-423e-de33-08811c877c3d"
      },
      "source": [
        "#Possiamo usare Picus poi per invocare la funzione \n",
        "print(\"Picus diceva le più belle funzioni di Python sono le Lamda\", Picus(1,2,3))"
      ],
      "execution_count": null,
      "outputs": [
        {
          "output_type": "stream",
          "text": [
            "Picus diceva le più belle funzioni di Python sono le Lamda 6\n"
          ],
          "name": "stdout"
        }
      ]
    },
    {
      "cell_type": "code",
      "metadata": {
        "id": "0sJjq2c0_u3Y"
      },
      "source": [
        "divisione=lambda dividendo1,dividendo2: dividendo1/dividendo2"
      ],
      "execution_count": 3,
      "outputs": []
    },
    {
      "cell_type": "code",
      "metadata": {
        "colab": {
          "base_uri": "https://localhost:8080/"
        },
        "id": "Nsy0cxaY_94w",
        "outputId": "48d4bf44-cbb7-457d-cbcf-561be287a0ff"
      },
      "source": [
        "print(divisione(1,2))"
      ],
      "execution_count": 4,
      "outputs": [
        {
          "output_type": "stream",
          "text": [
            "0.5\n"
          ],
          "name": "stdout"
        }
      ]
    },
    {
      "cell_type": "markdown",
      "metadata": {
        "id": "OSJKvN_jB-GL"
      },
      "source": [
        "##Media\n"
      ]
    },
    {
      "cell_type": "code",
      "metadata": {
        "id": "Ws993rHOAG6r"
      },
      "source": [
        "#possiamo definire una lamba function che fa la media  di tutti gli elementi di una lista, di una tupla, di un set\n",
        "Media= lambda lista : sum(lista)/len(lista)"
      ],
      "execution_count": 5,
      "outputs": []
    },
    {
      "cell_type": "code",
      "metadata": {
        "colab": {
          "base_uri": "https://localhost:8080/"
        },
        "id": "qLNvs_khA0ac",
        "outputId": "78335931-8d52-4d9b-af85-a7951132df59"
      },
      "source": [
        "#media degli elementi di una lista \n",
        "print(Media([1,2,3,4,5,6,7,8,9,10]))"
      ],
      "execution_count": 8,
      "outputs": [
        {
          "output_type": "stream",
          "text": [
            "5.5\n"
          ],
          "name": "stdout"
        }
      ]
    },
    {
      "cell_type": "code",
      "metadata": {
        "colab": {
          "base_uri": "https://localhost:8080/"
        },
        "id": "uo3dmHooBB8F",
        "outputId": "40f4b34d-04e8-405e-eb84-4363d38b9f6b"
      },
      "source": [
        "#media degli elementi di una tupla \n",
        "print(Media((1,2,3,4,5,6,7,8,9,10)))"
      ],
      "execution_count": 10,
      "outputs": [
        {
          "output_type": "stream",
          "text": [
            "5.5\n"
          ],
          "name": "stdout"
        }
      ]
    },
    {
      "cell_type": "code",
      "metadata": {
        "colab": {
          "base_uri": "https://localhost:8080/"
        },
        "id": "-zPGnAl1BQXA",
        "outputId": "ad4f98a6-d488-4f4f-ff7b-0c6b0539d06f"
      },
      "source": [
        "#media degli elementi di una set \n",
        "print(Media({1,2,3,4,5,6,7,8,9,10}))"
      ],
      "execution_count": 11,
      "outputs": [
        {
          "output_type": "stream",
          "text": [
            "5.5\n"
          ],
          "name": "stdout"
        }
      ]
    },
    {
      "cell_type": "markdown",
      "metadata": {
        "id": "gWCKErizBji_"
      },
      "source": [
        "## Esponente"
      ]
    },
    {
      "cell_type": "code",
      "metadata": {
        "id": "9p2_R7pLBiks"
      },
      "source": [
        "quadrato = lambda x: x**2"
      ],
      "execution_count": 12,
      "outputs": []
    },
    {
      "cell_type": "code",
      "metadata": {
        "colab": {
          "base_uri": "https://localhost:8080/"
        },
        "id": "ml_JfKvMB2He",
        "outputId": "1a28ca50-55cf-45f6-f39f-5daadf47271f"
      },
      "source": [
        "print(quadrato(10))"
      ],
      "execution_count": 13,
      "outputs": [
        {
          "output_type": "stream",
          "text": [
            "100\n"
          ],
          "name": "stdout"
        }
      ]
    }
  ]
}